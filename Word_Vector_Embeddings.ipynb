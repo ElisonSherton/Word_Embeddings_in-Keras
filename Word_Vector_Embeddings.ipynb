{
 "cells": [
  {
   "cell_type": "markdown",
   "metadata": {},
   "source": [
    "# Word Vector Embeddings"
   ]
  },
  {
   "cell_type": "markdown",
   "metadata": {},
   "source": [
    "The intuition behind this title eponymously aims at representing a word as a vector.\n",
    "\n",
    "There are primarily two stable techniques of achieving the above objective\n",
    "- Word2Vec\n",
    "- GloVe\n",
    "\n",
    "## Word2Vec\n",
    "\n",
    "Word2Vec is a neural network learning system which learns representations of word as a vector using a single hidden layer MLP over a large corpus of text where the output of a word fed to the MLP is the probabilities of co-occurence of all other words within a specific given window size of this word.  \n",
    "\n",
    "*We can then use the activations of the hidden layer neurons to represent each word uniquely as a vector of the same dimensions as the number of neurons in hidden layer.*\n",
    "\n",
    "**WHY?**\n",
    "\n",
    "After the MLP has trained and learned to identify the cooccurence probabilities, we could say that the *hidden layer is capturing the nature of relationship of a word with every other word in terms of the cooccurence probabilites.* Though it is theoretically possible to express a word as a co-occurence probability vector but typically it's size is huge and that's why we refrain from doing that. Instead we use the hidden layer with 50-300 neurons typically to work in a low dimensional space and capture the vector representation in a smaller space.\n",
    "\n",
    "**Use**:\n",
    "- Regulatities emerge and nature of relationships is captured well. You can understand the same from the image below.\n",
    "\n",
    "![Word Vector Relationships](WordVectors.png)\n",
    "\n",
    "[Source here](https://www.analyticsvidhya.com/blog/2017/06/word-embeddings-count-word2veec/)\n",
    "- As a preprocessing step for learning to do tasks related to text i.e. classification, prediction, caption generation, text auto-completion etc. \n",
    "\n",
    "**NOTE**: The above method of training a Word2Vec model is called skipgram model and there's also another method called CBOW (Continuous Bag of Words) model which you can refer from the Source mentioned above near the image.\n",
    "\n",
    "## GloVe\n",
    "\n",
    "GloVe is eventually obtaining the same result as a Word2Vec model only difference being the way in which it achieves the task i.e. use of Matrix Factorization.\n",
    "\n",
    "A GloVe model optimization function is expresses as below:\n",
    "\n",
    "* Constraint - $w_iw_j + b_i + b_j = log(X_{ij})$ where i and j are ith and jth words.\n",
    "\n",
    "* Optimize(minimize) - $ Loss = \\Sigma_1^N\\Sigma_1^Nf(X_{ij})(w_iw_j + b_i + b_j - log(X_{ij}))^2$ for all i and j.\n",
    "\n",
    "Here $f(X_{ij}) = (\\frac{X_{ij}}{X_{max}})^\\alpha for X_{ij} < X_{max} \\mbox{ and 1 otherwise}$\n",
    "\n",
    "This function is basically weighting the losses in proportion to their occurence in the corpus a certain i.e. $X_{max}$ number of times. If the frequency exceeds $X_{max}$ then every word is weighted to be equally important\n",
    "\n",
    "The optimization algorithm is not Gradient Descent but some other method. "
   ]
  },
  {
   "cell_type": "markdown",
   "metadata": {},
   "source": [
    "# Scope of this notebook\n",
    "\n",
    "To use GloVe \n",
    "- to understand Word Embeddings \n",
    "- to demonstrate encoded relationships between words \n",
    "- to use embeddings for text classification"
   ]
  },
  {
   "cell_type": "code",
   "execution_count": 25,
   "metadata": {},
   "outputs": [],
   "source": [
    "# To perform file operations and to\n",
    "# To randomly sample a word from the GloVe corpus\n",
    "import os\n",
    "import random\n",
    "\n",
    "# To perform matrix & vector operations\n",
    "# To perform data related operations\n",
    "import numpy as np\n",
    "import pandas as pd\n",
    "\n",
    "# For visualization\n",
    "import matplotlib.pyplot as plt\n",
    "import seaborn as sns\n",
    "%matplotlib inline\n",
    "\n",
    "# For splitting data into train and tst and to evaluate\n",
    "# the classification using Confusion Matrix\n",
    "from sklearn.model_selection import train_test_split\n",
    "from sklearn.metrics import confusion_matrix"
   ]
  },
  {
   "cell_type": "code",
   "execution_count": 52,
   "metadata": {},
   "outputs": [],
   "source": [
    "# For preprocessing the text\n",
    "from keras.preprocessing.text import Tokenizer\n",
    "from keras.preprocessing.sequence import pad_sequences\n",
    "\n",
    "# For building the keras model\n",
    "from keras.layers import Dense, Flatten, Dropout, Embedding\n",
    "from keras.models import Sequential\n",
    "\n",
    "# For selecting the optimization algorithm\n",
    "from keras.optimizers import Adam"
   ]
  },
  {
   "cell_type": "code",
   "execution_count": 54,
   "metadata": {},
   "outputs": [],
   "source": [
    "learning_rate = 0.01\n",
    "num_epochs = 50"
   ]
  },
  {
   "cell_type": "code",
   "execution_count": 2,
   "metadata": {},
   "outputs": [
    {
     "name": "stdout",
     "output_type": "stream",
     "text": [
      "Extracted 400000 word vectors from the file\n"
     ]
    }
   ],
   "source": [
    "# Get the name of the current directory\n",
    "curr_dir = os.getcwd()\n",
    "\n",
    "# Define an empty dictionary to hold the embeddings\n",
    "embeddings_index = {}\n",
    "\n",
    "# Open the file containing all the word vector representations\n",
    "f = open(os.path.join(curr_dir, 'glove_6B_50d.txt'), encoding=\"utf-8\")\n",
    "\n",
    "# Iterate over each line in my file\n",
    "for line in f:\n",
    "    # All elements are comma separated, get them in an array.\n",
    "    values = line.split()\n",
    "    \n",
    "    # First element is the word itself on each line. Grab it.\n",
    "    word = values[0]\n",
    "    \n",
    "    # All remaining values are the 50 embedded values for that word\n",
    "    coefs = np.asarray(values[1:], dtype='float32')\n",
    "    \n",
    "    # Insert this word with it's vector representation in our dictionary\n",
    "    embeddings_index[word] = coefs\n",
    "f.close()\n",
    "\n",
    "print(f'Extracted {len(embeddings_index)} word vectors from the file')"
   ]
  },
  {
   "cell_type": "markdown",
   "metadata": {},
   "source": [
    "# Relationship extraction\n",
    "\n",
    "Let's pick a random word from the embeddings dictionary and find out the closest 5 words which relate to it. \n",
    "\n",
    "Since we have vector representations, words which appear in similar context will be closer to one another and we're exploiting that fact by taking dot-product of vectors and lining them in descending order of importance to figure out close neighbors.\n",
    "\n",
    "The following functions from numpy will help find out the normalized dot product between two words.\n",
    "\n",
    "`np.linalg.norm` - This helps compute the magnitude of a vector expressed as an `np.array`\n",
    "\n",
    "`np.dot` - This finds out the dot product between the two vectors passed as `np.array`"
   ]
  },
  {
   "cell_type": "code",
   "execution_count": 3,
   "metadata": {},
   "outputs": [
    {
     "name": "stdout",
     "output_type": "stream",
     "text": [
      "35-nation\n"
     ]
    }
   ],
   "source": [
    "RandomWord = random.choice(list(embeddings_index.keys()))\n",
    "print(RandomWord)"
   ]
  },
  {
   "cell_type": "code",
   "execution_count": 4,
   "metadata": {},
   "outputs": [
    {
     "name": "stdout",
     "output_type": "stream",
     "text": [
      "The first ten entries in the embedded vector for 35-nation are\n",
      "\n",
      "[ 0.29981  -0.024924  0.48867  -0.47128   0.36121  -1.1452    1.1198\n",
      "  0.41651   1.1251   -0.070459]\n"
     ]
    }
   ],
   "source": [
    "RandomWordEmbedding = embeddings_index[RandomWord]\n",
    "print(f\"The first ten entries in the embedded vector for {RandomWord} are\\n\")\n",
    "print(RandomWordEmbedding[:10])"
   ]
  },
  {
   "cell_type": "markdown",
   "metadata": {},
   "source": [
    "## Similar words extraction"
   ]
  },
  {
   "cell_type": "code",
   "execution_count": 5,
   "metadata": {},
   "outputs": [],
   "source": [
    "def compute_normalized_dot_product(vec1, vec2):\n",
    "    # Compute dot product between the two vectors\n",
    "    dot_prod = np.dot(vec1, vec2)\n",
    "    \n",
    "    # Compute magnitudes of the vectors\n",
    "    mag1 = np.linalg.norm(vec1)\n",
    "    mag2 = np.linalg.norm(vec2)\n",
    "    \n",
    "    # Normalize the dot product    \n",
    "    norm_dot_prod = dot_prod / (mag1 * mag2)\n",
    "    \n",
    "    return norm_dot_prod"
   ]
  },
  {
   "cell_type": "code",
   "execution_count": 6,
   "metadata": {},
   "outputs": [],
   "source": [
    "similarities = {}\n",
    "\n",
    "for i in embeddings_index.keys():\n",
    "    NewWordEmbedding = embeddings_index[i]\n",
    "    similarities[i] = compute_normalized_dot_product(RandomWordEmbedding, NewWordEmbedding)"
   ]
  },
  {
   "cell_type": "code",
   "execution_count": 7,
   "metadata": {},
   "outputs": [
    {
     "name": "stdout",
     "output_type": "stream",
     "text": [
      "Top 10 words similar to 35-nation are as follows:\n",
      "['35-nation', '35-member', '11-member', '24-member', '12-member', '13-member', 'ifab', '22-member', '18-member', 'lawmaking']\n"
     ]
    }
   ],
   "source": [
    "print(f\"Top 10 words similar to {RandomWord} are as follows:\")\n",
    "print(sorted(similarities, key = lambda x:similarities[x],  reverse = True)[:10])"
   ]
  },
  {
   "cell_type": "markdown",
   "metadata": {},
   "source": [
    "## Relationship extraction on basis of gender"
   ]
  },
  {
   "cell_type": "markdown",
   "metadata": {},
   "source": [
    "Let's see if words male and female exist in our corpus and based on the relationship between them, let's find the word which is most related to \n",
    "\n",
    "- bachelor\n",
    "- king\n",
    "- monsieur\n",
    "\n",
    "if they exist in the corpus.\n",
    "\n",
    "The way we're gonna do this is get the direction vector from male to female. \n",
    "\n",
    "This should give us the relationship vector which points in general from a male entity to a female entity. If the relationship is captured, then if we take vectors for a male common noun and add this relationship to it, we expect to get a reasonably close female common noun. Let's try it out!"
   ]
  },
  {
   "cell_type": "code",
   "execution_count": 8,
   "metadata": {},
   "outputs": [
    {
     "name": "stdout",
     "output_type": "stream",
     "text": [
      "male True\n",
      "female True\n",
      "bachelor True\n",
      "king True\n",
      "monsieur True\n"
     ]
    }
   ],
   "source": [
    "for i in ['male', 'female', 'bachelor', 'king', 'monsieur']:\n",
    "    print(i, i in embeddings_index.keys())"
   ]
  },
  {
   "cell_type": "code",
   "execution_count": 20,
   "metadata": {},
   "outputs": [],
   "source": [
    "def extract_relation(base, direction_vector):\n",
    "    \n",
    "    # Find the new vector\n",
    "    new_word_embedding = embeddings_index[base] + direction_vector\n",
    "    \n",
    "    similarities = {}\n",
    "    \n",
    "    # Compute the similarities of base word with respect to each word in corpus\n",
    "    for i in embeddings_index.keys():\n",
    "        dict_word = embeddings_index[i]\n",
    "        similarities[i] = compute_normalized_dot_product(new_word_embedding, dict_word)\n",
    "        \n",
    "    # Sort in descending order of similarity and remove the first word since \n",
    "    # The first word is definitely going to be the base word itself as any word\n",
    "    # is most similar to itself.\n",
    "    top_5 = sorted(similarities, key = lambda x:similarities[x],  reverse = True)[1:6] \n",
    "    \n",
    "    # Print the top 5 most similar words based on dot product\n",
    "    print(f\"\\n{base} is most similar to these five words with respect to the direction_vector's relationship\")\n",
    "    print(top_5)\n",
    "    \n",
    "    # Visualize the similarities in a horizontal bar chart.\n",
    "    sim_score = [similarities[i] for i in top_5]\n",
    "    sns.barplot(x = top_5, y = sim_score)\n",
    "    plt.suptitle(f'Words similar to {base}')\n",
    "    plt.xlabel('Words')\n",
    "    plt.ylabel('Similarity scores')\n",
    "    plt.show()"
   ]
  },
  {
   "cell_type": "code",
   "execution_count": 21,
   "metadata": {
    "scrolled": false
   },
   "outputs": [
    {
     "name": "stdout",
     "output_type": "stream",
     "text": [
      "\n",
      "king is most similar to these five words with respect to the direction_vector's relationship\n",
      "['queen', 'daughter', 'prince', 'throne', 'princess']\n"
     ]
    },
    {
     "data": {
      "image/png": "[encoded data removed]",
      "text/plain": [
       "<Figure size 432x288 with 1 Axes>"
      ]
     },
     "metadata": {
      "needs_background": "light"
     },
     "output_type": "display_data"
    },
    {
     "name": "stdout",
     "output_type": "stream",
     "text": [
      "\n",
      "monsieur is most similar to these five words with respect to the direction_vector's relationship\n",
      "['magda', 'croque', 'beaucaire', 'antoinette', 'staël']\n"
     ]
    },
    {
     "data": {
      "image/png": "[encoded data removed]",
      "text/plain": [
       "<Figure size 432x288 with 1 Axes>"
      ]
     },
     "metadata": {
      "needs_background": "light"
     },
     "output_type": "display_data"
    },
    {
     "name": "stdout",
     "output_type": "stream",
     "text": [
      "\n",
      "male is most similar to these five words with respect to the direction_vector's relationship\n",
      "['female', 'adult', 'adults', 'unmarried', 'women']\n"
     ]
    },
    {
     "data": {
      "image/png": "[encoded data removed]",
      "text/plain": [
       "<Figure size 432x288 with 1 Axes>"
      ]
     },
     "metadata": {
      "needs_background": "light"
     },
     "output_type": "display_data"
    },
    {
     "name": "stdout",
     "output_type": "stream",
     "text": [
      "\n",
      "princess is most similar to these five words with respect to the direction_vector's relationship\n",
      "['duchess', 'queen', 'sister', 'countess', 'bride']\n"
     ]
    },
    {
     "data": {
      "image/png": "[encoded data removed]",
      "text/plain": [
       "<Figure size 432x288 with 1 Axes>"
      ]
     },
     "metadata": {
      "needs_background": "light"
     },
     "output_type": "display_data"
    },
    {
     "name": "stdout",
     "output_type": "stream",
     "text": [
      "\n",
      "guy is most similar to these five words with respect to the direction_vector's relationship\n",
      "['mom', 'woman', 'dad', 'waitress', 'loves']\n"
     ]
    },
    {
     "data": {
      "image/png": "[encoded data removed]",
      "text/plain": [
       "<Figure size 432x288 with 1 Axes>"
      ]
     },
     "metadata": {
      "needs_background": "light"
     },
     "output_type": "display_data"
    }
   ],
   "source": [
    "for i in ['king', 'monsieur', 'male', 'princess', 'guy']:\n",
    "    relation = embeddings_index['woman'] - embeddings_index['man']\n",
    "    extract_relation(i, relation)"
   ]
  },
  {
   "cell_type": "markdown",
   "metadata": {},
   "source": [
    "The above relationship is reasonably fair in capturing the relationship if we see.\n",
    "\n",
    "- King-Queen\n",
    "- Male-Female\n",
    "- guy-woman\n",
    "- monsieur(man) - antoinette(lady's name) [Probably the corpus doesn't have many French words to train on] \n",
    "\n",
    "give a sense of relationship similar to that between a man and a woman"
   ]
  },
  {
   "cell_type": "markdown",
   "metadata": {},
   "source": [
    "## Relationship extraction on basis of Tense\n",
    "\n",
    "Similar to the gender relationship above, we could test our hypotheses based on the tenses. Let's find out the relationship between 'is' and 'was' and see if we can use it to map other present tense verbs to their past tense forms."
   ]
  },
  {
   "cell_type": "code",
   "execution_count": 15,
   "metadata": {},
   "outputs": [
    {
     "name": "stdout",
     "output_type": "stream",
     "text": [
      "is True\n",
      "was True\n"
     ]
    }
   ],
   "source": [
    "for i in ['is', 'was']:\n",
    "    print(i, i in embeddings_index.keys())"
   ]
  },
  {
   "cell_type": "code",
   "execution_count": 22,
   "metadata": {
    "scrolled": false
   },
   "outputs": [
    {
     "name": "stdout",
     "output_type": "stream",
     "text": [
      "\n",
      "drink is most similar to these five words with respect to the direction_vector's relationship\n",
      "['drink', 'drinks', 'drunk', 'drinking', 'beer']\n"
     ]
    },
    {
     "data": {
      "image/png": "[encoded data removed]",
      "text/plain": [
       "<Figure size 432x288 with 1 Axes>"
      ]
     },
     "metadata": {
      "needs_background": "light"
     },
     "output_type": "display_data"
    },
    {
     "name": "stdout",
     "output_type": "stream",
     "text": [
      "\n",
      "walk is most similar to these five words with respect to the direction_vector's relationship\n",
      "['went', 'walk', 'stayed', 'stopped', 'ran']\n"
     ]
    },
    {
     "data": {
      "image/png": "[encoded data removed]",
      "text/plain": [
       "<Figure size 432x288 with 1 Axes>"
      ]
     },
     "metadata": {
      "needs_background": "light"
     },
     "output_type": "display_data"
    },
    {
     "name": "stdout",
     "output_type": "stream",
     "text": [
      "\n",
      "swim is most similar to these five words with respect to the direction_vector's relationship\n",
      "['swim', 'raced', 'rowed', 'swum', 'swimmers']\n"
     ]
    },
    {
     "data": {
      "image/png": "[encoded data removed]",
      "text/plain": [
       "<Figure size 432x288 with 1 Axes>"
      ]
     },
     "metadata": {
      "needs_background": "light"
     },
     "output_type": "display_data"
    },
    {
     "name": "stdout",
     "output_type": "stream",
     "text": [
      "\n",
      "eat is most similar to these five words with respect to the direction_vector's relationship\n",
      "['eat', 'eaten', 'eating', 'sick', \"'d\"]\n"
     ]
    },
    {
     "data": {
      "image/png": "[encoded data removed]",
      "text/plain": [
       "<Figure size 432x288 with 1 Axes>"
      ]
     },
     "metadata": {
      "needs_background": "light"
     },
     "output_type": "display_data"
    },
    {
     "name": "stdout",
     "output_type": "stream",
     "text": [
      "\n",
      "bite is most similar to these five words with respect to the direction_vector's relationship\n",
      "['bitten', 'biting', 'throat', 'wound', 'bites']\n"
     ]
    },
    {
     "data": {
      "image/png": "[encoded data removed]",
      "text/plain": [
       "<Figure size 432x288 with 1 Axes>"
      ]
     },
     "metadata": {
      "needs_background": "light"
     },
     "output_type": "display_data"
    }
   ],
   "source": [
    "for i in ['drink', 'walk', 'swim', 'eat', 'bite']:\n",
    "    relation = embeddings_index['was'] - embeddings_index['is']\n",
    "    extract_relation(i, relation)"
   ]
  },
  {
   "cell_type": "markdown",
   "metadata": {},
   "source": [
    "Again we see there's a good similarity here between the words and their tense representations.  \n",
    "\n",
    "- Drink - drunk\n",
    "- Walk - went or ran (It's capturing tense but changing root verb, yet quite accurate in a way)\n",
    "- Swim - swum\n",
    "- Eat - eaten (I expected ate but eaten is also used with other past forms and is a valid word).\n",
    "- Bite - bitten\n",
    "\n",
    "These are enough examples to show the effectiveness of word embeddings and justify their use in different ANN models to do lots of interesting tasks."
   ]
  },
  {
   "cell_type": "markdown",
   "metadata": {},
   "source": [
    "# Text Classification with predefined Embeddings in Keras \n",
    "\n",
    "Similar to how we built an embedding layer in keras to distinguish positive reviews from negative ones for the `amazon_cells_labelled.txt` review data, let's do that by using the word embeddings which we obtained from GloVe above.\n",
    "\n",
    "We will not train these embeddings and keep them fixed and use another dense layer in conjunction with this to figure out the relationships between positive and negative text.\n",
    "\n",
    "We will load the data, tokenize it using `Tokenizer.fit_on_texts()` method in keras, encode every sentence into integer indices using `Tokenizer.text_to_sequences`, find the max length word and pad the sentence lengths to the max length using `pad_sequences` similar to how we'd done in the notebook **Text_Classification_Embeddings_Keras.ipynb**. \n",
    "\n",
    "Post this, there's a step we need to additionally perform before model building which I've described below."
   ]
  },
  {
   "cell_type": "code",
   "execution_count": 23,
   "metadata": {},
   "outputs": [
    {
     "name": "stdout",
     "output_type": "stream",
     "text": [
      "Size of the data is: (1000, 2)\n"
     ]
    },
    {
     "data": {
      "text/html": [
       "<div>\n",
       "<style scoped>\n",
       "    .dataframe tbody tr th:only-of-type {\n",
       "        vertical-align: middle;\n",
       "    }\n",
       "\n",
       "    .dataframe tbody tr th {\n",
       "        vertical-align: top;\n",
       "    }\n",
       "\n",
       "    .dataframe thead th {\n",
       "        text-align: right;\n",
       "    }\n",
       "</style>\n",
       "<table border=\"1\" class=\"dataframe\">\n",
       "  <thead>\n",
       "    <tr style=\"text-align: right;\">\n",
       "      <th></th>\n",
       "      <th>Text</th>\n",
       "      <th>Reviews</th>\n",
       "    </tr>\n",
       "  </thead>\n",
       "  <tbody>\n",
       "    <tr>\n",
       "      <td>0</td>\n",
       "      <td>So there is no way for me to plug it in here in the US unless I go by a converter.</td>\n",
       "      <td>0</td>\n",
       "    </tr>\n",
       "    <tr>\n",
       "      <td>1</td>\n",
       "      <td>Good case, Excellent value.</td>\n",
       "      <td>1</td>\n",
       "    </tr>\n",
       "    <tr>\n",
       "      <td>2</td>\n",
       "      <td>Great for the jawbone.</td>\n",
       "      <td>1</td>\n",
       "    </tr>\n",
       "    <tr>\n",
       "      <td>3</td>\n",
       "      <td>Tied to charger for conversations lasting more than 45 minutes.MAJOR PROBLEMS!!</td>\n",
       "      <td>0</td>\n",
       "    </tr>\n",
       "    <tr>\n",
       "      <td>4</td>\n",
       "      <td>The mic is great.</td>\n",
       "      <td>1</td>\n",
       "    </tr>\n",
       "  </tbody>\n",
       "</table>\n",
       "</div>"
      ],
      "text/plain": [
       "                                                                                 Text  \\\n",
       "0  So there is no way for me to plug it in here in the US unless I go by a converter.   \n",
       "1  Good case, Excellent value.                                                          \n",
       "2  Great for the jawbone.                                                               \n",
       "3  Tied to charger for conversations lasting more than 45 minutes.MAJOR PROBLEMS!!      \n",
       "4  The mic is great.                                                                    \n",
       "\n",
       "   Reviews  \n",
       "0  0        \n",
       "1  1        \n",
       "2  1        \n",
       "3  0        \n",
       "4  1        "
      ]
     },
     "execution_count": 23,
     "metadata": {},
     "output_type": "execute_result"
    }
   ],
   "source": [
    "data = pd.read_table('amazon_cells_labelled.txt', header = None)\n",
    "data.columns = ['Text', 'Reviews']\n",
    "pd.set_option('display.max_colwidth', -1)\n",
    "print(f\"Size of the data is: {data.shape}\")\n",
    "data.head()"
   ]
  },
  {
   "cell_type": "code",
   "execution_count": 24,
   "metadata": {},
   "outputs": [
    {
     "data": {
      "image/png": "[encoded data removed]",
      "text/plain": [
       "<Figure size 432x288 with 1 Axes>"
      ]
     },
     "metadata": {
      "needs_background": "light"
     },
     "output_type": "display_data"
    }
   ],
   "source": [
    "sns.countplot(y = \"Reviews\", data = data)\n",
    "plt.show()"
   ]
  },
  {
   "cell_type": "code",
   "execution_count": 27,
   "metadata": {},
   "outputs": [],
   "source": [
    "X = data.Text; y = data.Reviews\n",
    "X_train, X_test, y_train, y_test = train_test_split(X, y, stratify = y, test_size = 0.05, random_state = 0)"
   ]
  },
  {
   "cell_type": "code",
   "execution_count": 28,
   "metadata": {},
   "outputs": [
    {
     "name": "stdout",
     "output_type": "stream",
     "text": [
      "There are 1838 unique words in our vocabulary.\n"
     ]
    }
   ],
   "source": [
    "# Tokenization\n",
    "Tk = Tokenizer()\n",
    "Tk.fit_on_texts(X_train)\n",
    "\n",
    "# Watch how big is the vocabulary\n",
    "print(f\"There are {len(Tk.word_index)} unique words in our vocabulary.\")"
   ]
  },
  {
   "cell_type": "code",
   "execution_count": 29,
   "metadata": {},
   "outputs": [
    {
     "name": "stdout",
     "output_type": "stream",
     "text": [
      "Our text vocabulary is of size 1839.\n"
     ]
    }
   ],
   "source": [
    "# Define the vocabulary size accordingly\n",
    "vocab_size = len(Tk.word_index) + 1\n",
    "print(f\"Our text vocabulary is of size {vocab_size}.\")"
   ]
  },
  {
   "cell_type": "code",
   "execution_count": 30,
   "metadata": {},
   "outputs": [],
   "source": [
    "# Encode all the sentences in our data to convert them into integer index representations.\n",
    "encoded_train = Tk.texts_to_sequences(X_train)\n",
    "encoded_test = Tk.texts_to_sequences(X_test)"
   ]
  },
  {
   "cell_type": "code",
   "execution_count": 31,
   "metadata": {},
   "outputs": [
    {
     "name": "stdout",
     "output_type": "stream",
     "text": [
      "[181, 9]\n",
      "[2, 257, 36, 7, 54, 114, 1, 534, 5, 781]\n",
      "[535, 93, 2, 324]\n",
      "[2, 83, 100, 55, 107, 14, 7, 24]\n",
      "[1, 122, 398, 1, 9, 325, 17, 3, 123, 56, 108, 1, 168, 326, 226, 3, 1, 115, 11, 37, 4, 782, 536, 783]\n"
     ]
    },
    {
     "data": {
      "text/plain": [
       "[None, None, None, None, None]"
      ]
     },
     "execution_count": 31,
     "metadata": {},
     "output_type": "execute_result"
    }
   ],
   "source": [
    "# The integer index coded representation for each review is as follows\n",
    "[print(i) for i in encoded_train[:5]]"
   ]
  },
  {
   "cell_type": "code",
   "execution_count": 32,
   "metadata": {},
   "outputs": [
    {
     "name": "stdout",
     "output_type": "stream",
     "text": [
      "The biggest review has 30 number of words present in it.\n"
     ]
    }
   ],
   "source": [
    "# Let's find out the length of the biggest review for padding purposes\n",
    "max_length_train = max([len(i) for i in encoded_train])\n",
    "max_length_test = max([len(i) for i in encoded_test])\n",
    "\n",
    "max_length = max(max_length_train, max_length_test)\n",
    "\n",
    "print(f\"The biggest review has {max_length} number of words present in it.\")"
   ]
  },
  {
   "cell_type": "code",
   "execution_count": 33,
   "metadata": {},
   "outputs": [
    {
     "name": "stdout",
     "output_type": "stream",
     "text": [
      "[181   9   0   0   0   0   0   0   0   0   0   0   0   0   0   0   0   0\n",
      "   0   0   0   0   0   0   0   0   0   0   0   0]\n",
      "[  2 257  36   7  54 114   1 534   5 781   0   0   0   0   0   0   0   0\n",
      "   0   0   0   0   0   0   0   0   0   0   0   0]\n",
      "[535  93   2 324   0   0   0   0   0   0   0   0   0   0   0   0   0   0\n",
      "   0   0   0   0   0   0   0   0   0   0   0   0]\n",
      "[  2  83 100  55 107  14   7  24   0   0   0   0   0   0   0   0   0   0\n",
      "   0   0   0   0   0   0   0   0   0   0   0   0]\n",
      "[  1 122 398   1   9 325  17   3 123  56 108   1 168 326 226   3   1 115\n",
      "  11  37   4 782 536 783   0   0   0   0   0   0]\n"
     ]
    },
    {
     "data": {
      "text/plain": [
       "[None, None, None, None, None]"
      ]
     },
     "execution_count": 33,
     "metadata": {},
     "output_type": "execute_result"
    }
   ],
   "source": [
    "# Pad the documents to the maximum length for keras to accept input while building a model\n",
    "padded_train = pad_sequences(encoded_train, maxlen = max_length, padding = 'post')\n",
    "padded_test = pad_sequences(encoded_test, maxlen = max_length, padding = 'post')\n",
    "\n",
    "# Top 5 results in padded train sequence. \n",
    "# We can see that each and every review has been padded with 0s at it's \n",
    "# end to bring the lengths of all the datapoints on the same baseline\n",
    "[print(i) for i in padded_train[:5]]"
   ]
  },
  {
   "cell_type": "markdown",
   "metadata": {},
   "source": [
    "# Extract Vocabulary Embeddings\n",
    "\n",
    "We are primarily interested only in the embeddings in our train vocabulary. Let's hunt these words in our `embeddings_index` dictionary and extract the word vectors for these words."
   ]
  },
  {
   "cell_type": "code",
   "execution_count": 36,
   "metadata": {},
   "outputs": [],
   "source": [
    "# Initialize a weight matrix for words in training docs\n",
    "# 50 because our embedding is of length 50\n",
    "embedding_matrix = np.zeros((vocab_size, 50))\n",
    "\n",
    "for word, i in Tk.word_index.items():\n",
    "    # Use .get() method of a dictionary to find the embeddings for a word\n",
    "    # If the word isn't a key in the dictionary, we'd get a None in return\n",
    "    embedding_vector = embeddings_index.get(word)\n",
    "    \n",
    "    # Store the embedding if there's one\n",
    "    if embedding_vector is not None:\n",
    "        embedding_matrix[i] = embedding_vector"
   ]
  },
  {
   "cell_type": "code",
   "execution_count": 42,
   "metadata": {
    "scrolled": true
   },
   "outputs": [
    {
     "data": {
      "text/plain": [
       "array([[ 0.21962   ,  0.62506002,  0.036481  ,  0.91399997,  0.62923002,\n",
       "         0.27533999,  0.8452    ,  0.17431   ,  0.14024   ,  0.15263   ,\n",
       "         0.17178001,  0.32126001, -0.84736001,  0.30199999,  0.47670999,\n",
       "         0.018174  , -0.14233001,  0.37933001, -0.94545001, -0.42623001,\n",
       "         0.25975001, -0.85088003,  0.14590999,  0.49066001, -0.81854999,\n",
       "        -1.75979996, -0.30318001,  0.52275997,  0.45216   , -1.26160002,\n",
       "         1.94200003, -0.24123   ,  0.011121  , -0.25734001, -0.24916001,\n",
       "         0.56998003,  0.13335   , -0.33596   , -0.34742001,  0.058454  ,\n",
       "         0.35159001,  0.36493999, -0.51073998,  0.57172   ,  0.23325001,\n",
       "        -1.05299997,  0.49458   , -1.35899997, -0.3418    , -0.81897998],\n",
       "       [-0.17581999, -0.046832  , -0.39719   , -0.15842   ,  0.83589   ,\n",
       "        -0.078353  ,  0.74071002, -0.58925998, -1.01960003,  1.08039999,\n",
       "         0.25988001, -0.15267   ,  1.23839998,  0.15435   , -0.32442001,\n",
       "        -0.065147  , -1.33969998, -0.33191001, -0.044782  , -1.39690006,\n",
       "        -0.73271   ,  0.40869999,  0.72579998, -0.62489998,  0.53648001,\n",
       "         0.38404   , -0.077233  ,  1.25600004,  0.30469999, -0.33109999,\n",
       "         2.04530001, -0.27586001,  0.74119002,  0.15573999,  0.27458   ,\n",
       "        -0.33719999, -0.25922   , -0.50992   , -0.79623002, -0.089351  ,\n",
       "         0.59299999,  0.78816998, -0.29233   , -0.11309   ,  0.055436  ,\n",
       "         0.37742001,  0.97355998,  0.064454  , -1.35749996, -0.17924   ],\n",
       "       [ 0.091757  ,  0.96351999,  0.79817998, -0.29091999,  0.32143   ,\n",
       "         0.91283   ,  0.43096   , -1.32219994,  0.087944  , -0.68518001,\n",
       "        -0.15223999, -0.43226999,  0.58568001,  0.31981   , -0.037635  ,\n",
       "         0.0039938 , -0.94129997,  0.030297  , -0.082339  , -1.69200003,\n",
       "        -0.1505    , -0.92923999,  0.93013   ,  0.44826001, -0.89656001,\n",
       "         0.46136001, -0.96521002,  0.092864  ,  0.70604998, -0.11109   ,\n",
       "         2.15560007,  0.69884002,  0.047544  , -0.27085   ,  1.08410001,\n",
       "         0.39873999, -0.1751    ,  0.52407002, -0.24222   , -0.068185  ,\n",
       "         0.15391   , -0.33397001,  1.19819999,  0.57862002, -0.20361   ,\n",
       "         0.65723997,  1.08309996, -0.1446    , -0.055229  , -0.023523  ],\n",
       "       [ 0.35517001,  0.08018   ,  0.12342   , -0.36013001,  0.92598999,\n",
       "        -0.51501   , -0.27502999,  0.80662   , -0.31547001, -0.27528   ,\n",
       "        -0.21303999,  0.85553998,  0.30507001,  0.030532  ,  1.04949999,\n",
       "         0.64608997,  0.12683   , -0.26295   ,  0.97482997, -0.88834   ,\n",
       "         0.22961999,  0.59460002,  0.18114001,  0.52240002,  0.53416997,\n",
       "        -2.07290006, -0.26424   , -0.34557   , -0.055137  , -1.07509995,\n",
       "         2.29390001,  0.78232002, -1.31470001, -0.21356   , -0.13991   ,\n",
       "        -0.42704001,  0.45732999, -0.42504999,  0.40246999, -0.38997999,\n",
       "         0.15473001,  0.43156999,  0.19479001,  0.45931   ,  0.28742   ,\n",
       "         0.10683   , -0.36225   ,  0.59061998,  0.025688  ,  0.94244999],\n",
       "       [-0.067678  ,  0.51832002,  1.32599998, -0.38666001, -0.79743999,\n",
       "        -1.17780006,  0.70664001, -0.10963   , -0.15724   ,  0.36434001,\n",
       "         0.019379  , -0.27210999, -0.89819002, -0.47341001,  0.28413999,\n",
       "         0.43553001,  0.83845001,  0.35569   ,  0.44374001,  1.12950003,\n",
       "         0.33465001, -0.31367999,  0.44253999,  1.58710003,  0.77739   ,\n",
       "        -0.69906998, -0.67426002, -0.84490001, -1.08169997, -0.28882   ,\n",
       "         0.85233998, -0.16678999,  0.19988   ,  1.35819995, -0.93581003,\n",
       "        -0.88673002,  0.69224   ,  1.02919996,  0.17747   , -0.092543  ,\n",
       "         1.34759998, -0.93151999,  0.14035   ,  0.71074998,  0.52208   ,\n",
       "        -1.14750004,  0.14850999, -0.65103   ,  0.12924001,  0.48723999]])"
      ]
     },
     "execution_count": 42,
     "metadata": {},
     "output_type": "execute_result"
    }
   ],
   "source": [
    "# Look at word embeddings of any random 5 words from our embedding matrix\n",
    "r = np.random.randint(vocab_size)\n",
    "embedding_matrix[r:r + 5]"
   ]
  },
  {
   "cell_type": "markdown",
   "metadata": {},
   "source": [
    "We see that the embeddings are populated aptly in the embedding matrix and it's not all zeros. "
   ]
  },
  {
   "cell_type": "markdown",
   "metadata": {},
   "source": [
    "# Model Architecture\n",
    "\n",
    "Our training data has a vocabulary size of 1839.\n",
    "\n",
    "Each input has 30 words or 30 tokens associated with it.\n",
    "\n",
    "GloVe provides a 50 dimensional vector representation for every word which will be our output dimension for embedding layer.\n",
    "\n",
    "There are 30 such words per datapoint which means we'll be getting 30 * 50 = 1500 output activations which need to be flattened to bring them into one single layer which can be fed to the next FC layer for doing binary classification.\n",
    "\n",
    "Let's construct this model using the `Sequential` API in keras\n",
    "\n",
    "**NOTE: Embedding layer parameters**:\n",
    "\n",
    "- input_dim - It is the size of our vocabulary (1839 in our case).\n",
    "- input_length - Length of input sequences (30 in our case).\n",
    "- output_dimension - Dimension of the dense embedding (50 which GloVe has provided).\n",
    "\n",
    "**NOTE : Embedding layer will be set to a non-trainable layer since those are pre-set word representations obtained from glove_6B_50d.txt by Stanford**\n",
    "\n",
    "[Refer this link](https://keras.io/layers/embeddings/) for details about several other parameters which we won't be using here."
   ]
  },
  {
   "cell_type": "code",
   "execution_count": 74,
   "metadata": {},
   "outputs": [],
   "source": [
    "# Note we've given trainable parameter = False for maintaining the embeddings we got from GloVe\n",
    "# Also, adding Dropout since the model otherwise overfits\n",
    "model = Sequential([\n",
    "    Embedding(input_dim = vocab_size, input_length = max_length, \n",
    "              weights = [embedding_matrix], output_dim = 50, trainable = False),\n",
    "    Flatten(),\n",
    "    Dropout(rate = 0.2),\n",
    "    Dense(1, activation = 'sigmoid')\n",
    "])"
   ]
  },
  {
   "cell_type": "code",
   "execution_count": 75,
   "metadata": {},
   "outputs": [
    {
     "name": "stdout",
     "output_type": "stream",
     "text": [
      "Model: \"sequential_6\"\n",
      "_________________________________________________________________\n",
      "Layer (type)                 Output Shape              Param #   \n",
      "=================================================================\n",
      "embedding_6 (Embedding)      (None, 30, 50)            91950     \n",
      "_________________________________________________________________\n",
      "flatten_6 (Flatten)          (None, 1500)              0         \n",
      "_________________________________________________________________\n",
      "dropout_3 (Dropout)          (None, 1500)              0         \n",
      "_________________________________________________________________\n",
      "dense_6 (Dense)              (None, 1)                 1501      \n",
      "=================================================================\n",
      "Total params: 93,451\n",
      "Trainable params: 1,501\n",
      "Non-trainable params: 91,950\n",
      "_________________________________________________________________\n"
     ]
    }
   ],
   "source": [
    "model.summary()"
   ]
  },
  {
   "cell_type": "markdown",
   "metadata": {},
   "source": [
    "Since each sentence/review is only 30 words long and each word is described by 50 neuron activations, we get the training parameters of the NN architecture in the first layer to be 30 * 50 = 1500 which are flattened with `Flatten` layer.\n",
    "\n",
    "Evenetually we have a `Dense` layer which does the job of classifying the reviews into 1s(positive) or 0s(negative)\n",
    "\n",
    "Let's now compile the model and use adam with learning rate 0.01 to optimize the loss. "
   ]
  },
  {
   "cell_type": "code",
   "execution_count": 76,
   "metadata": {},
   "outputs": [],
   "source": [
    "# compile the model\n",
    "model.compile(optimizer=Adam(lr = learning_rate), loss='binary_crossentropy', metrics=['accuracy'])"
   ]
  },
  {
   "cell_type": "markdown",
   "metadata": {},
   "source": [
    "# Fit and Evaluate the Model"
   ]
  },
  {
   "cell_type": "code",
   "execution_count": 77,
   "metadata": {
    "scrolled": true
   },
   "outputs": [
    {
     "name": "stdout",
     "output_type": "stream",
     "text": [
      "Train on 760 samples, validate on 190 samples\n",
      "Epoch 1/50\n",
      "760/760 [==============================] - 0s 502us/step - loss: 0.6683 - accuracy: 0.6224 - val_loss: 0.5925 - val_accuracy: 0.7316\n",
      "Epoch 2/50\n",
      "760/760 [==============================] - 0s 89us/step - loss: 0.4534 - accuracy: 0.7961 - val_loss: 0.5976 - val_accuracy: 0.7158\n",
      "Epoch 3/50\n",
      "760/760 [==============================] - 0s 100us/step - loss: 0.4028 - accuracy: 0.8342 - val_loss: 0.6163 - val_accuracy: 0.7105\n",
      "Epoch 4/50\n",
      "760/760 [==============================] - 0s 99us/step - loss: 0.3621 - accuracy: 0.8526 - val_loss: 0.6020 - val_accuracy: 0.7474\n",
      "Epoch 5/50\n",
      "760/760 [==============================] - 0s 110us/step - loss: 0.3598 - accuracy: 0.8474 - val_loss: 0.6217 - val_accuracy: 0.7474\n",
      "Epoch 6/50\n",
      "760/760 [==============================] - 0s 120us/step - loss: 0.3114 - accuracy: 0.8842 - val_loss: 0.6326 - val_accuracy: 0.7263\n",
      "Epoch 7/50\n",
      "760/760 [==============================] - 0s 79us/step - loss: 0.2944 - accuracy: 0.8921 - val_loss: 0.6880 - val_accuracy: 0.6895\n",
      "Epoch 8/50\n",
      "760/760 [==============================] - 0s 78us/step - loss: 0.2961 - accuracy: 0.8842 - val_loss: 0.6720 - val_accuracy: 0.7053\n",
      "Epoch 9/50\n",
      "760/760 [==============================] - 0s 76us/step - loss: 0.2899 - accuracy: 0.8750 - val_loss: 0.6481 - val_accuracy: 0.7211\n",
      "Epoch 10/50\n",
      "760/760 [==============================] - 0s 83us/step - loss: 0.2799 - accuracy: 0.8829 - val_loss: 0.6727 - val_accuracy: 0.7000\n",
      "Epoch 11/50\n",
      "760/760 [==============================] - 0s 93us/step - loss: 0.2575 - accuracy: 0.8934 - val_loss: 0.6874 - val_accuracy: 0.7211\n",
      "Epoch 12/50\n",
      "760/760 [==============================] - 0s 109us/step - loss: 0.2603 - accuracy: 0.8921 - val_loss: 0.7151 - val_accuracy: 0.7368\n",
      "Epoch 13/50\n",
      "760/760 [==============================] - 0s 89us/step - loss: 0.2537 - accuracy: 0.8921 - val_loss: 0.7088 - val_accuracy: 0.7368\n",
      "Epoch 14/50\n",
      "760/760 [==============================] - 0s 92us/step - loss: 0.2601 - accuracy: 0.8934 - val_loss: 0.7185 - val_accuracy: 0.7105\n",
      "Epoch 15/50\n",
      "760/760 [==============================] - 0s 114us/step - loss: 0.2456 - accuracy: 0.9053 - val_loss: 0.7127 - val_accuracy: 0.6895\n",
      "Epoch 16/50\n",
      "760/760 [==============================] - 0s 82us/step - loss: 0.2468 - accuracy: 0.9039 - val_loss: 0.7777 - val_accuracy: 0.6947\n",
      "Epoch 17/50\n",
      "760/760 [==============================] - 0s 104us/step - loss: 0.2409 - accuracy: 0.9013 - val_loss: 0.7817 - val_accuracy: 0.7053\n",
      "Epoch 18/50\n",
      "760/760 [==============================] - 0s 95us/step - loss: 0.2281 - accuracy: 0.8974 - val_loss: 0.7773 - val_accuracy: 0.7000\n",
      "Epoch 19/50\n",
      "760/760 [==============================] - 0s 97us/step - loss: 0.2305 - accuracy: 0.9026 - val_loss: 0.7758 - val_accuracy: 0.7000\n",
      "Epoch 20/50\n",
      "760/760 [==============================] - 0s 80us/step - loss: 0.2207 - accuracy: 0.9092 - val_loss: 0.7928 - val_accuracy: 0.6789\n",
      "Epoch 21/50\n",
      "760/760 [==============================] - 0s 107us/step - loss: 0.2162 - accuracy: 0.9184 - val_loss: 0.8210 - val_accuracy: 0.6737\n",
      "Epoch 22/50\n",
      "760/760 [==============================] - 0s 108us/step - loss: 0.2132 - accuracy: 0.9171 - val_loss: 0.8620 - val_accuracy: 0.6789\n",
      "Epoch 23/50\n",
      "760/760 [==============================] - 0s 87us/step - loss: 0.2257 - accuracy: 0.8987 - val_loss: 0.8335 - val_accuracy: 0.6947\n",
      "Epoch 24/50\n",
      "760/760 [==============================] - 0s 100us/step - loss: 0.2133 - accuracy: 0.9092 - val_loss: 0.8452 - val_accuracy: 0.6947\n",
      "Epoch 25/50\n",
      "760/760 [==============================] - 0s 95us/step - loss: 0.2161 - accuracy: 0.9105 - val_loss: 0.8718 - val_accuracy: 0.6684\n",
      "Epoch 26/50\n",
      "760/760 [==============================] - 0s 124us/step - loss: 0.2176 - accuracy: 0.9158 - val_loss: 0.8832 - val_accuracy: 0.6947\n",
      "Epoch 27/50\n",
      "760/760 [==============================] - 0s 85us/step - loss: 0.2099 - accuracy: 0.9237 - val_loss: 0.8853 - val_accuracy: 0.6895\n",
      "Epoch 28/50\n",
      "760/760 [==============================] - 0s 96us/step - loss: 0.2118 - accuracy: 0.9184 - val_loss: 0.9217 - val_accuracy: 0.6947\n",
      "Epoch 29/50\n",
      "760/760 [==============================] - 0s 97us/step - loss: 0.2235 - accuracy: 0.9039 - val_loss: 0.8992 - val_accuracy: 0.6947\n",
      "Epoch 30/50\n",
      "760/760 [==============================] - 0s 101us/step - loss: 0.2115 - accuracy: 0.9066 - val_loss: 0.9351 - val_accuracy: 0.6789\n",
      "Epoch 31/50\n",
      "760/760 [==============================] - 0s 99us/step - loss: 0.2089 - accuracy: 0.9053 - val_loss: 0.9406 - val_accuracy: 0.6895\n",
      "Epoch 32/50\n",
      "760/760 [==============================] - 0s 97us/step - loss: 0.2065 - accuracy: 0.9079 - val_loss: 0.9288 - val_accuracy: 0.6842\n",
      "Epoch 33/50\n",
      "760/760 [==============================] - 0s 79us/step - loss: 0.2074 - accuracy: 0.9145 - val_loss: 0.9605 - val_accuracy: 0.6789\n",
      "Epoch 34/50\n",
      "760/760 [==============================] - 0s 107us/step - loss: 0.1901 - accuracy: 0.9211 - val_loss: 0.9930 - val_accuracy: 0.6947\n",
      "Epoch 35/50\n",
      "760/760 [==============================] - 0s 97us/step - loss: 0.2109 - accuracy: 0.9171 - val_loss: 0.9584 - val_accuracy: 0.6947\n",
      "Epoch 36/50\n",
      "760/760 [==============================] - 0s 99us/step - loss: 0.1948 - accuracy: 0.9250 - val_loss: 0.9905 - val_accuracy: 0.6947\n",
      "Epoch 37/50\n",
      "760/760 [==============================] - 0s 96us/step - loss: 0.1823 - accuracy: 0.9303 - val_loss: 1.0147 - val_accuracy: 0.6789\n",
      "Epoch 38/50\n",
      "760/760 [==============================] - 0s 121us/step - loss: 0.1888 - accuracy: 0.9316 - val_loss: 0.9979 - val_accuracy: 0.6737\n",
      "Epoch 39/50\n",
      "760/760 [==============================] - 0s 104us/step - loss: 0.1939 - accuracy: 0.9237 - val_loss: 0.9544 - val_accuracy: 0.7000\n",
      "Epoch 40/50\n",
      "760/760 [==============================] - 0s 82us/step - loss: 0.2192 - accuracy: 0.9013 - val_loss: 1.0811 - val_accuracy: 0.6947\n",
      "Epoch 41/50\n",
      "760/760 [==============================] - 0s 79us/step - loss: 0.2027 - accuracy: 0.9066 - val_loss: 1.0415 - val_accuracy: 0.6947\n",
      "Epoch 42/50\n",
      "760/760 [==============================] - 0s 88us/step - loss: 0.1864 - accuracy: 0.9145 - val_loss: 1.0532 - val_accuracy: 0.6789\n",
      "Epoch 43/50\n",
      "760/760 [==============================] - 0s 82us/step - loss: 0.1956 - accuracy: 0.9184 - val_loss: 1.0700 - val_accuracy: 0.6737\n",
      "Epoch 44/50\n",
      "760/760 [==============================] - 0s 89us/step - loss: 0.1839 - accuracy: 0.9250 - val_loss: 1.0864 - val_accuracy: 0.6684\n",
      "Epoch 45/50\n",
      "760/760 [==============================] - 0s 83us/step - loss: 0.2120 - accuracy: 0.9158 - val_loss: 1.1043 - val_accuracy: 0.6632\n",
      "Epoch 46/50\n",
      "760/760 [==============================] - 0s 92us/step - loss: 0.1909 - accuracy: 0.9224 - val_loss: 1.1108 - val_accuracy: 0.6737\n",
      "Epoch 47/50\n",
      "760/760 [==============================] - 0s 95us/step - loss: 0.2025 - accuracy: 0.9171 - val_loss: 1.1121 - val_accuracy: 0.6842\n",
      "Epoch 48/50\n",
      "760/760 [==============================] - 0s 100us/step - loss: 0.1886 - accuracy: 0.9184 - val_loss: 1.1044 - val_accuracy: 0.6737\n",
      "Epoch 49/50\n",
      "760/760 [==============================] - 0s 109us/step - loss: 0.1908 - accuracy: 0.9158 - val_loss: 1.0830 - val_accuracy: 0.6789\n",
      "Epoch 50/50\n",
      "760/760 [==============================] - 0s 116us/step - loss: 0.1847 - accuracy: 0.9250 - val_loss: 1.0495 - val_accuracy: 0.7000\n"
     ]
    },
    {
     "data": {
      "text/plain": [
       "<keras.callbacks.callbacks.History at 0x254664c2160>"
      ]
     },
     "execution_count": 77,
     "metadata": {},
     "output_type": "execute_result"
    }
   ],
   "source": [
    "model.fit(padded_train, y_train, epochs = num_epochs, verbose = 1, \n",
    "          validation_split = 0.2, batch_size = 32)"
   ]
  },
  {
   "cell_type": "markdown",
   "metadata": {},
   "source": [
    "# Performance Evaluation on Train and Test"
   ]
  },
  {
   "cell_type": "code",
   "execution_count": 78,
   "metadata": {},
   "outputs": [],
   "source": [
    "def evaluate_performance(y_true, y_pred, title, labels):\n",
    "    tn, fp, fn, tp = confusion_matrix(y_true, y_pred).ravel()\n",
    "    print(f\"Accuracy:  {np.round((tp + tn) / (tp + fp + tn + fn), 3)}\")\n",
    "    print(f\"Recall:    {np.round(tp / (tp + fn), 3)}\")\n",
    "    print(f\"Precision: {np.round(tp / (tp + fp), 3)}\")\n",
    "    print(f\"f1 score:  {np.round(2 * tp / (2 * tp + fp + fn), 3)}\\n\")\n",
    "    \n",
    "    data = confusion_matrix(y_true, y_pred)\n",
    "    data = pd.DataFrame(data/np.sum(data), index = labels, columns = labels)\n",
    "    print(data)\n",
    "    akws = {\"ha\": 'center',\"va\": 'center', 'size':15}\n",
    "    sns.heatmap(data, annot = True, annot_kws=akws)\n",
    "    plt.suptitle(title)\n",
    "    plt.xticks(rotation = 90); plt.yticks(rotation = 0)\n",
    "    plt.show()"
   ]
  },
  {
   "cell_type": "markdown",
   "metadata": {},
   "source": [
    "**Evaluate on Train** "
   ]
  },
  {
   "cell_type": "code",
   "execution_count": 79,
   "metadata": {},
   "outputs": [
    {
     "name": "stdout",
     "output_type": "stream",
     "text": [
      "Accuracy:  0.921\n",
      "Recall:    0.922\n",
      "Precision: 0.92\n",
      "f1 score:  0.921\n",
      "\n",
      "          Negative  Positive\n",
      "Negative  0.460000  0.040000\n",
      "Positive  0.038947  0.461053\n"
     ]
    },
    {
     "data": {
      "image/png": "[encoded data removed]",
      "text/plain": [
       "<Figure size 432x288 with 2 Axes>"
      ]
     },
     "metadata": {
      "needs_background": "light"
     },
     "output_type": "display_data"
    }
   ],
   "source": [
    "y_pred_train = model.predict_classes(padded_train)\n",
    "evaluate_performance(y_train, y_pred_train, title = 'Train Performance',\n",
    "                     labels = ['Negative', 'Positive'])"
   ]
  },
  {
   "cell_type": "markdown",
   "metadata": {},
   "source": [
    "**Evaluate on Test**"
   ]
  },
  {
   "cell_type": "code",
   "execution_count": 80,
   "metadata": {},
   "outputs": [
    {
     "name": "stdout",
     "output_type": "stream",
     "text": [
      "Accuracy:  0.58\n",
      "Recall:    0.68\n",
      "Precision: 0.567\n",
      "f1 score:  0.618\n",
      "\n",
      "          Negative  Positive\n",
      "Negative  0.24      0.26    \n",
      "Positive  0.16      0.34    \n"
     ]
    },
    {
     "data": {
      "image/png": "[encoded data removed]",
      "text/plain": [
       "<Figure size 432x288 with 2 Axes>"
      ]
     },
     "metadata": {
      "needs_background": "light"
     },
     "output_type": "display_data"
    }
   ],
   "source": [
    "y_pred_test = model.predict_classes(padded_test)\n",
    "evaluate_performance(y_test, y_pred_test, title = 'Test Performance',\n",
    "                     labels = ['Negative', 'Positive'])"
   ]
  },
  {
   "cell_type": "markdown",
   "metadata": {},
   "source": [
    "# Experimenting with training the embedding layer\n",
    "\n",
    "We saw that the model doesn't perform well and overfits if we keep the training for Embedding layer as False even after adding regularization using dropout. Let's try to also simultaneously train the embedding layer and see if there's any improvement in the performance."
   ]
  },
  {
   "cell_type": "code",
   "execution_count": 83,
   "metadata": {
    "scrolled": true
   },
   "outputs": [
    {
     "name": "stdout",
     "output_type": "stream",
     "text": [
      "Model: \"sequential_9\"\n",
      "_________________________________________________________________\n",
      "Layer (type)                 Output Shape              Param #   \n",
      "=================================================================\n",
      "embedding_9 (Embedding)      (None, 30, 50)            91950     \n",
      "_________________________________________________________________\n",
      "flatten_9 (Flatten)          (None, 1500)              0         \n",
      "_________________________________________________________________\n",
      "dropout_6 (Dropout)          (None, 1500)              0         \n",
      "_________________________________________________________________\n",
      "dense_9 (Dense)              (None, 1)                 1501      \n",
      "=================================================================\n",
      "Total params: 93,451\n",
      "Trainable params: 93,451\n",
      "Non-trainable params: 0\n",
      "_________________________________________________________________\n",
      "None\n",
      "Train on 760 samples, validate on 190 samples\n",
      "Epoch 1/50\n",
      "760/760 [==============================] - 0s 561us/step - loss: 0.6888 - accuracy: 0.6105 - val_loss: 0.5596 - val_accuracy: 0.7263\n",
      "Epoch 2/50\n",
      "760/760 [==============================] - 0s 193us/step - loss: 0.3417 - accuracy: 0.8671 - val_loss: 0.5305 - val_accuracy: 0.7632\n",
      "Epoch 3/50\n",
      "760/760 [==============================] - 0s 168us/step - loss: 0.1758 - accuracy: 0.9592 - val_loss: 0.5382 - val_accuracy: 0.8000\n",
      "Epoch 4/50\n",
      "760/760 [==============================] - 0s 189us/step - loss: 0.0863 - accuracy: 0.9789 - val_loss: 0.5706 - val_accuracy: 0.7842\n",
      "Epoch 5/50\n",
      "760/760 [==============================] - 0s 175us/step - loss: 0.0458 - accuracy: 0.9987 - val_loss: 0.5899 - val_accuracy: 0.7842\n",
      "Epoch 6/50\n",
      "760/760 [==============================] - 0s 164us/step - loss: 0.0299 - accuracy: 0.9987 - val_loss: 0.6267 - val_accuracy: 0.8000\n",
      "Epoch 7/50\n",
      "760/760 [==============================] - 0s 153us/step - loss: 0.0230 - accuracy: 0.9974 - val_loss: 0.6271 - val_accuracy: 0.7842\n",
      "Epoch 8/50\n",
      "760/760 [==============================] - 0s 193us/step - loss: 0.0156 - accuracy: 1.0000 - val_loss: 0.6607 - val_accuracy: 0.8053\n",
      "Epoch 9/50\n",
      "760/760 [==============================] - 0s 188us/step - loss: 0.0106 - accuracy: 1.0000 - val_loss: 0.6562 - val_accuracy: 0.7789\n",
      "Epoch 10/50\n",
      "760/760 [==============================] - 0s 155us/step - loss: 0.0074 - accuracy: 1.0000 - val_loss: 0.6824 - val_accuracy: 0.8000\n",
      "Epoch 11/50\n",
      "760/760 [==============================] - 0s 174us/step - loss: 0.0063 - accuracy: 1.0000 - val_loss: 0.6910 - val_accuracy: 0.8000\n",
      "Epoch 12/50\n",
      "760/760 [==============================] - 0s 137us/step - loss: 0.0058 - accuracy: 1.0000 - val_loss: 0.7051 - val_accuracy: 0.8000\n",
      "Epoch 13/50\n",
      "760/760 [==============================] - 0s 138us/step - loss: 0.0047 - accuracy: 1.0000 - val_loss: 0.7149 - val_accuracy: 0.8000\n",
      "Epoch 14/50\n",
      "760/760 [==============================] - 0s 132us/step - loss: 0.0034 - accuracy: 1.0000 - val_loss: 0.7290 - val_accuracy: 0.8053\n",
      "Epoch 15/50\n",
      "760/760 [==============================] - 0s 179us/step - loss: 0.0034 - accuracy: 1.0000 - val_loss: 0.7364 - val_accuracy: 0.8000\n",
      "Epoch 16/50\n",
      "760/760 [==============================] - 0s 185us/step - loss: 0.0028 - accuracy: 1.0000 - val_loss: 0.7396 - val_accuracy: 0.8000\n",
      "Epoch 17/50\n",
      "760/760 [==============================] - 0s 192us/step - loss: 0.0031 - accuracy: 1.0000 - val_loss: 0.7633 - val_accuracy: 0.8053\n",
      "Epoch 18/50\n",
      "760/760 [==============================] - 0s 162us/step - loss: 0.0026 - accuracy: 1.0000 - val_loss: 0.7601 - val_accuracy: 0.8000\n",
      "Epoch 19/50\n",
      "760/760 [==============================] - 0s 188us/step - loss: 0.0020 - accuracy: 1.0000 - val_loss: 0.7668 - val_accuracy: 0.8000\n",
      "Epoch 20/50\n",
      "760/760 [==============================] - 0s 189us/step - loss: 0.0019 - accuracy: 1.0000 - val_loss: 0.7799 - val_accuracy: 0.8105\n",
      "Epoch 21/50\n",
      "760/760 [==============================] - 0s 180us/step - loss: 0.0017 - accuracy: 1.0000 - val_loss: 0.7943 - val_accuracy: 0.8105\n",
      "Epoch 22/50\n",
      "760/760 [==============================] - 0s 167us/step - loss: 0.0013 - accuracy: 1.0000 - val_loss: 0.7984 - val_accuracy: 0.8105\n",
      "Epoch 23/50\n",
      "760/760 [==============================] - 0s 184us/step - loss: 0.0013 - accuracy: 1.0000 - val_loss: 0.7997 - val_accuracy: 0.8105\n",
      "Epoch 24/50\n",
      "760/760 [==============================] - 0s 181us/step - loss: 0.0013 - accuracy: 1.0000 - val_loss: 0.7952 - val_accuracy: 0.8053\n",
      "Epoch 25/50\n",
      "760/760 [==============================] - 0s 179us/step - loss: 0.0014 - accuracy: 1.0000 - val_loss: 0.8134 - val_accuracy: 0.8105\n",
      "Epoch 26/50\n",
      "760/760 [==============================] - 0s 176us/step - loss: 0.0012 - accuracy: 1.0000 - val_loss: 0.8137 - val_accuracy: 0.8053\n",
      "Epoch 27/50\n",
      "760/760 [==============================] - 0s 192us/step - loss: 8.3822e-04 - accuracy: 1.0000 - val_loss: 0.8134 - val_accuracy: 0.8053\n",
      "Epoch 28/50\n",
      "760/760 [==============================] - 0s 170us/step - loss: 9.3710e-04 - accuracy: 1.0000 - val_loss: 0.8181 - val_accuracy: 0.8053\n",
      "Epoch 29/50\n",
      "760/760 [==============================] - 0s 158us/step - loss: 0.0011 - accuracy: 1.0000 - val_loss: 0.8379 - val_accuracy: 0.8105\n",
      "Epoch 30/50\n",
      "760/760 [==============================] - 0s 142us/step - loss: 8.1728e-04 - accuracy: 1.0000 - val_loss: 0.8372 - val_accuracy: 0.8053\n",
      "Epoch 31/50\n",
      "760/760 [==============================] - 0s 199us/step - loss: 7.0749e-04 - accuracy: 1.0000 - val_loss: 0.8406 - val_accuracy: 0.8053\n",
      "Epoch 32/50\n",
      "760/760 [==============================] - 0s 155us/step - loss: 7.5254e-04 - accuracy: 1.0000 - val_loss: 0.8465 - val_accuracy: 0.8053\n",
      "Epoch 33/50\n",
      "760/760 [==============================] - 0s 172us/step - loss: 6.7349e-04 - accuracy: 1.0000 - val_loss: 0.8483 - val_accuracy: 0.8053\n",
      "Epoch 34/50\n",
      "760/760 [==============================] - 0s 181us/step - loss: 5.6110e-04 - accuracy: 1.0000 - val_loss: 0.8571 - val_accuracy: 0.8105\n",
      "Epoch 35/50\n",
      "760/760 [==============================] - 0s 171us/step - loss: 6.9654e-04 - accuracy: 1.0000 - val_loss: 0.8662 - val_accuracy: 0.8105\n",
      "Epoch 36/50\n",
      "760/760 [==============================] - 0s 179us/step - loss: 4.7837e-04 - accuracy: 1.0000 - val_loss: 0.8699 - val_accuracy: 0.8105\n",
      "Epoch 37/50\n",
      "760/760 [==============================] - 0s 162us/step - loss: 6.3405e-04 - accuracy: 1.0000 - val_loss: 0.8744 - val_accuracy: 0.8105\n",
      "Epoch 38/50\n",
      "760/760 [==============================] - 0s 171us/step - loss: 4.5382e-04 - accuracy: 1.0000 - val_loss: 0.8764 - val_accuracy: 0.8105\n",
      "Epoch 39/50\n",
      "760/760 [==============================] - 0s 178us/step - loss: 5.0972e-04 - accuracy: 1.0000 - val_loss: 0.8793 - val_accuracy: 0.8105\n",
      "Epoch 40/50\n",
      "760/760 [==============================] - 0s 151us/step - loss: 4.0932e-04 - accuracy: 1.0000 - val_loss: 0.8801 - val_accuracy: 0.8105\n",
      "Epoch 41/50\n",
      "760/760 [==============================] - 0s 304us/step - loss: 4.8088e-04 - accuracy: 1.0000 - val_loss: 0.8843 - val_accuracy: 0.8105\n",
      "Epoch 42/50\n",
      "760/760 [==============================] - 0s 179us/step - loss: 4.2805e-04 - accuracy: 1.0000 - val_loss: 0.8834 - val_accuracy: 0.8105\n",
      "Epoch 43/50\n",
      "760/760 [==============================] - 0s 179us/step - loss: 3.4774e-04 - accuracy: 1.0000 - val_loss: 0.8876 - val_accuracy: 0.8105\n",
      "Epoch 44/50\n",
      "760/760 [==============================] - 0s 178us/step - loss: 4.1500e-04 - accuracy: 1.0000 - val_loss: 0.8901 - val_accuracy: 0.8105\n",
      "Epoch 45/50\n",
      "760/760 [==============================] - 0s 204us/step - loss: 4.9622e-04 - accuracy: 1.0000 - val_loss: 0.8933 - val_accuracy: 0.8105\n",
      "Epoch 46/50\n",
      "760/760 [==============================] - 0s 204us/step - loss: 3.4669e-04 - accuracy: 1.0000 - val_loss: 0.8933 - val_accuracy: 0.8105\n",
      "Epoch 47/50\n",
      "760/760 [==============================] - 0s 160us/step - loss: 3.3870e-04 - accuracy: 1.0000 - val_loss: 0.8984 - val_accuracy: 0.8105\n",
      "Epoch 48/50\n",
      "760/760 [==============================] - 0s 168us/step - loss: 3.3800e-04 - accuracy: 1.0000 - val_loss: 0.9021 - val_accuracy: 0.8105\n",
      "Epoch 49/50\n",
      "760/760 [==============================] - 0s 195us/step - loss: 3.7765e-04 - accuracy: 1.0000 - val_loss: 0.8983 - val_accuracy: 0.8105\n",
      "Epoch 50/50\n",
      "760/760 [==============================] - 0s 149us/step - loss: 3.3392e-04 - accuracy: 1.0000 - val_loss: 0.9052 - val_accuracy: 0.8053\n"
     ]
    },
    {
     "data": {
      "text/plain": [
       "<keras.callbacks.callbacks.History at 0x254704ed400>"
      ]
     },
     "execution_count": 83,
     "metadata": {},
     "output_type": "execute_result"
    }
   ],
   "source": [
    "model = Sequential([\n",
    "    Embedding(input_dim = vocab_size, input_length = max_length, \n",
    "              weights = [embedding_matrix], output_dim = 50, trainable = True),\n",
    "    Flatten(),\n",
    "    Dropout(rate = 0.2),\n",
    "    Dense(1, activation = 'sigmoid')\n",
    "])\n",
    "\n",
    "print(model.summary())\n",
    "\n",
    "model.compile(optimizer=Adam(lr = learning_rate), loss='binary_crossentropy', metrics=['accuracy'])\n",
    "\n",
    "model.fit(padded_train, y_train, epochs = num_epochs, verbose = 1, \n",
    "          validation_split = 0.2, batch_size = 32)"
   ]
  },
  {
   "cell_type": "code",
   "execution_count": 84,
   "metadata": {},
   "outputs": [
    {
     "name": "stdout",
     "output_type": "stream",
     "text": [
      "Performance on Train data\n",
      "Accuracy:  0.961\n",
      "Recall:    0.952\n",
      "Precision: 0.97\n",
      "f1 score:  0.961\n",
      "\n",
      "          Negative  Positive\n",
      "Negative  0.485263  0.014737\n",
      "Positive  0.024211  0.475789\n"
     ]
    },
    {
     "data": {
      "image/png": "[encoded data removed]",
      "text/plain": [
       "<Figure size 432x288 with 2 Axes>"
      ]
     },
     "metadata": {
      "needs_background": "light"
     },
     "output_type": "display_data"
    },
    {
     "name": "stdout",
     "output_type": "stream",
     "text": [
      "Performance on Test data\n",
      "Accuracy:  0.88\n",
      "Recall:    0.92\n",
      "Precision: 0.852\n",
      "f1 score:  0.885\n",
      "\n",
      "          Negative  Positive\n",
      "Negative  0.42      0.08    \n",
      "Positive  0.04      0.46    \n"
     ]
    },
    {
     "data": {
      "image/png": "[encoded data removed]",
      "text/plain": [
       "<Figure size 432x288 with 2 Axes>"
      ]
     },
     "metadata": {
      "needs_background": "light"
     },
     "output_type": "display_data"
    }
   ],
   "source": [
    "print(\"Performance on Train data\")\n",
    "\n",
    "y_pred_train = model.predict_classes(padded_train)\n",
    "evaluate_performance(y_train, y_pred_train, title = 'Train Performance',\n",
    "                     labels = ['Negative', 'Positive'])\n",
    "\n",
    "print(\"Performance on Test data\")\n",
    "y_pred_test = model.predict_classes(padded_test)\n",
    "evaluate_performance(y_test, y_pred_test, title = 'Test Performance',\n",
    "                     labels = ['Negative', 'Positive'])"
   ]
  },
  {
   "cell_type": "markdown",
   "metadata": {},
   "source": [
    "# Conclusion\n",
    "\n",
    "In this notebook, we saw\n",
    "\n",
    "- What are word vector embeddings and two most commonly used methods i.e. GloVe and Word2Vec\n",
    "\n",
    "- How to use Word Vector Embeddings\n",
    "    - To extract similarities\n",
    "    - To extract relationships between words\n",
    "    - To represent a word as a vector to feed them to different ANN models\n",
    "    \n",
    "Finally we observed that a 50-Dimensional representation learned on a huge corpus doesn't have word vector weights in a good enough local minima because of which we were not able to classify positive reviews from negative ones properly. \n",
    "\n",
    "But when we allowed training to happen on these weights, they became tuned to the task at hand thereby they learned better."
   ]
  }
 ],
 "metadata": {
  "kernelspec": {
   "display_name": "Python 3",
   "language": "python",
   "name": "python3"
  },
  "language_info": {
   "codemirror_mode": {
    "name": "ipython",
    "version": 3
   },
   "file_extension": ".py",
   "mimetype": "text/x-python",
   "name": "python",
   "nbconvert_exporter": "python",
   "pygments_lexer": "ipython3",
   "version": "3.6.8"
  },
  "latex_envs": {
   "LaTeX_envs_menu_present": true,
   "autoclose": false,
   "autocomplete": true,
   "bibliofile": "biblio.bib",
   "cite_by": "apalike",
   "current_citInitial": 1,
   "eqLabelWithNumbers": true,
   "eqNumInitial": 1,
   "hotkeys": {
    "equation": "Ctrl-E",
    "itemize": "Ctrl-I"
   },
   "labels_anchors": false,
   "latex_user_defs": false,
   "report_style_numbering": false,
   "user_envs_cfg": false
  },
  "toc": {
   "base_numbering": 1,
   "nav_menu": {},
   "number_sections": true,
   "sideBar": true,
   "skip_h1_title": false,
   "title_cell": "Table of Contents",
   "title_sidebar": "Contents",
   "toc_cell": false,
   "toc_position": {},
   "toc_section_display": true,
   "toc_window_display": false
  }
 },
 "nbformat": 4,
 "nbformat_minor": 2
}
