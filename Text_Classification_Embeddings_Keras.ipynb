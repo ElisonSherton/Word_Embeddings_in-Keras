{
 "cells": [
  {
   "cell_type": "markdown",
   "metadata": {},
   "source": [
    "# Text Classification using Word Embedding in Keras"
   ]
  },
  {
   "cell_type": "markdown",
   "metadata": {},
   "source": [
    "In this notebook, I'll demonstrate how to use the Embedding layer in keras for doing text classification. The task at hand is to build a classifier to distinguish good reviews from bad ones in amazon reviews of miscellaneous products."
   ]
  },
  {
   "cell_type": "code",
   "execution_count": 23,
   "metadata": {},
   "outputs": [],
   "source": [
    "import numpy as np\n",
    "import pandas as pd\n",
    "\n",
    "import matplotlib.pyplot as plt\n",
    "import seaborn as sns\n",
    "%matplotlib inline\n",
    "\n",
    "from sklearn.model_selection import train_test_split\n",
    "from sklearn.metrics import confusion_matrix"
   ]
  },
  {
   "cell_type": "code",
   "execution_count": 54,
   "metadata": {},
   "outputs": [],
   "source": [
    "from keras.preprocessing.text import Tokenizer\n",
    "from keras.preprocessing.sequence import pad_sequences\n",
    "\n",
    "from keras.layers import Dense, Flatten, Dropout, Embedding\n",
    "from keras.models import Sequential\n",
    "\n",
    "from keras.optimizers import SGD"
   ]
  },
  {
   "cell_type": "code",
   "execution_count": 109,
   "metadata": {},
   "outputs": [],
   "source": [
    "learning_rate = 0.05\n",
    "num_epochs = 200"
   ]
  },
  {
   "cell_type": "code",
   "execution_count": 14,
   "metadata": {},
   "outputs": [
    {
     "name": "stdout",
     "output_type": "stream",
     "text": [
      "Size of the data is: (1000, 2)\n"
     ]
    },
    {
     "data": {
      "text/html": [
       "<div>\n",
       "<style scoped>\n",
       "    .dataframe tbody tr th:only-of-type {\n",
       "        vertical-align: middle;\n",
       "    }\n",
       "\n",
       "    .dataframe tbody tr th {\n",
       "        vertical-align: top;\n",
       "    }\n",
       "\n",
       "    .dataframe thead th {\n",
       "        text-align: right;\n",
       "    }\n",
       "</style>\n",
       "<table border=\"1\" class=\"dataframe\">\n",
       "  <thead>\n",
       "    <tr style=\"text-align: right;\">\n",
       "      <th></th>\n",
       "      <th>Text</th>\n",
       "      <th>Reviews</th>\n",
       "    </tr>\n",
       "  </thead>\n",
       "  <tbody>\n",
       "    <tr>\n",
       "      <td>0</td>\n",
       "      <td>So there is no way for me to plug it in here in the US unless I go by a converter.</td>\n",
       "      <td>0</td>\n",
       "    </tr>\n",
       "    <tr>\n",
       "      <td>1</td>\n",
       "      <td>Good case, Excellent value.</td>\n",
       "      <td>1</td>\n",
       "    </tr>\n",
       "    <tr>\n",
       "      <td>2</td>\n",
       "      <td>Great for the jawbone.</td>\n",
       "      <td>1</td>\n",
       "    </tr>\n",
       "    <tr>\n",
       "      <td>3</td>\n",
       "      <td>Tied to charger for conversations lasting more than 45 minutes.MAJOR PROBLEMS!!</td>\n",
       "      <td>0</td>\n",
       "    </tr>\n",
       "    <tr>\n",
       "      <td>4</td>\n",
       "      <td>The mic is great.</td>\n",
       "      <td>1</td>\n",
       "    </tr>\n",
       "  </tbody>\n",
       "</table>\n",
       "</div>"
      ],
      "text/plain": [
       "                                                                                 Text  \\\n",
       "0  So there is no way for me to plug it in here in the US unless I go by a converter.   \n",
       "1  Good case, Excellent value.                                                          \n",
       "2  Great for the jawbone.                                                               \n",
       "3  Tied to charger for conversations lasting more than 45 minutes.MAJOR PROBLEMS!!      \n",
       "4  The mic is great.                                                                    \n",
       "\n",
       "   Reviews  \n",
       "0  0        \n",
       "1  1        \n",
       "2  1        \n",
       "3  0        \n",
       "4  1        "
      ]
     },
     "execution_count": 14,
     "metadata": {},
     "output_type": "execute_result"
    }
   ],
   "source": [
    "data = pd.read_table('amazon_cells_labelled.txt', header = None)\n",
    "data.columns = ['Text', 'Reviews']\n",
    "pd.set_option('display.max_colwidth', -1)\n",
    "print(f\"Size of the data is: {data.shape}\")\n",
    "data.head()"
   ]
  },
  {
   "cell_type": "code",
   "execution_count": 21,
   "metadata": {},
   "outputs": [
    {
     "data": {
      "image/png": "[encoded data removed]",
      "text/plain": [
       "<Figure size 432x288 with 1 Axes>"
      ]
     },
     "metadata": {
      "needs_background": "light"
     },
     "output_type": "display_data"
    }
   ],
   "source": [
    "sns.countplot(y = \"Reviews\", data = data)\n",
    "plt.show()"
   ]
  },
  {
   "cell_type": "code",
   "execution_count": 24,
   "metadata": {},
   "outputs": [],
   "source": [
    "X = data.Text; y = data.Reviews\n",
    "X_train, X_test, y_train, y_test = train_test_split(X, y, stratify = y, test_size = 0.05, random_state = 0)"
   ]
  },
  {
   "cell_type": "markdown",
   "metadata": {},
   "source": [
    "# Data Preparation\n",
    "\n",
    "## Tokenization\n",
    "We need to tokenize the text into integer indices and express the sentences or reviews as a set of integers.\n",
    "\n",
    "**Tokenization**:\n",
    "\n",
    "Keras' `Tokenizer()` helps achieve this task.\n",
    "\n",
    "Tokenizer's built in `fit_on_texts` method will take in the documents as input and assign an index to each and every unique word in the document.\n",
    "\n",
    "We could check this using the `word_index` attribute in the Tokenizer.\n",
    "\n",
    "## Encoding\n",
    "\n",
    "We need to encode the sentences using these indices obtained as a result of the tokenization above. The `Tokenizer` object created in the previous step has a method `text_to_sequences` which helps us do this task easily.\n",
    "\n",
    "## Uniform Length Padding\n",
    "\n",
    "Keras prefers it's input documents to be all of the same length. Hence we'll have to find out the length of the longest review and make every other review of the same length by using `pad_sequences` method in keras which will basically append 0s post the shorter reviews to make their length equal that of the review with maximum tokens. "
   ]
  },
  {
   "cell_type": "code",
   "execution_count": 32,
   "metadata": {
    "scrolled": false
   },
   "outputs": [
    {
     "name": "stdout",
     "output_type": "stream",
     "text": [
      "There are 1838 unique words in our vocabulary.\n"
     ]
    }
   ],
   "source": [
    "# Tokenization\n",
    "Tk = Tokenizer()\n",
    "Tk.fit_on_texts(X_train)\n",
    "\n",
    "# Watch how big is the vocabulary\n",
    "print(f\"There are {len(Tk.word_index)} unique words in our vocabulary.\")"
   ]
  },
  {
   "cell_type": "code",
   "execution_count": 42,
   "metadata": {},
   "outputs": [
    {
     "name": "stdout",
     "output_type": "stream",
     "text": [
      "Our text vocabulary is of size 1839.\n"
     ]
    }
   ],
   "source": [
    "# Define the vocabulary size accordingly\n",
    "vocab_size = len(Tk.word_index) + 1\n",
    "print(f\"Our text vocabulary is of size {vocab_size}.\")"
   ]
  },
  {
   "cell_type": "code",
   "execution_count": 33,
   "metadata": {},
   "outputs": [],
   "source": [
    "# Encode all the sentences in our data to convert them into integer index representations.\n",
    "encoded_train = Tk.texts_to_sequences(X_train)\n",
    "encoded_test = Tk.texts_to_sequences(X_test)"
   ]
  },
  {
   "cell_type": "code",
   "execution_count": 38,
   "metadata": {},
   "outputs": [
    {
     "name": "stdout",
     "output_type": "stream",
     "text": [
      "[181, 9]\n",
      "[2, 257, 36, 7, 54, 114, 1, 534, 5, 781]\n",
      "[535, 93, 2, 324]\n",
      "[2, 83, 100, 55, 107, 14, 7, 24]\n",
      "[1, 122, 398, 1, 9, 325, 17, 3, 123, 56, 108, 1, 168, 326, 226, 3, 1, 115, 11, 37, 4, 782, 536, 783]\n"
     ]
    },
    {
     "data": {
      "text/plain": [
       "[None, None, None, None, None]"
      ]
     },
     "execution_count": 38,
     "metadata": {},
     "output_type": "execute_result"
    }
   ],
   "source": [
    "# The integer index coded representation for each review is as follows\n",
    "[print(i) for i in encoded_train[:5]]"
   ]
  },
  {
   "cell_type": "code",
   "execution_count": 44,
   "metadata": {
    "scrolled": true
   },
   "outputs": [
    {
     "name": "stdout",
     "output_type": "stream",
     "text": [
      "The biggest review has 30 number of words present in it.\n"
     ]
    }
   ],
   "source": [
    "# Let's find out the length of the biggest review for padding purposes\n",
    "max_length_train = max([len(i) for i in encoded_train])\n",
    "max_length_test = max([len(i) for i in encoded_test])\n",
    "\n",
    "max_length = max(max_length_train, max_length_test)\n",
    "\n",
    "print(f\"The biggest review has {max_length} number of words present in it.\")"
   ]
  },
  {
   "cell_type": "code",
   "execution_count": 47,
   "metadata": {},
   "outputs": [
    {
     "name": "stdout",
     "output_type": "stream",
     "text": [
      "[181   9   0   0   0   0   0   0   0   0   0   0   0   0   0   0   0   0\n",
      "   0   0   0   0   0   0   0   0   0   0   0   0]\n",
      "[  2 257  36   7  54 114   1 534   5 781   0   0   0   0   0   0   0   0\n",
      "   0   0   0   0   0   0   0   0   0   0   0   0]\n",
      "[535  93   2 324   0   0   0   0   0   0   0   0   0   0   0   0   0   0\n",
      "   0   0   0   0   0   0   0   0   0   0   0   0]\n",
      "[  2  83 100  55 107  14   7  24   0   0   0   0   0   0   0   0   0   0\n",
      "   0   0   0   0   0   0   0   0   0   0   0   0]\n",
      "[  1 122 398   1   9 325  17   3 123  56 108   1 168 326 226   3   1 115\n",
      "  11  37   4 782 536 783   0   0   0   0   0   0]\n"
     ]
    },
    {
     "data": {
      "text/plain": [
       "[None, None, None, None, None]"
      ]
     },
     "execution_count": 47,
     "metadata": {},
     "output_type": "execute_result"
    }
   ],
   "source": [
    "# Pad the documents to the maximum length for keras to accept input while building a model\n",
    "padded_train = pad_sequences(encoded_train, maxlen = max_length, padding = 'post')\n",
    "padded_test = pad_sequences(encoded_test, maxlen = max_length, padding = 'post')\n",
    "\n",
    "# Top 5 results in padded train sequence. \n",
    "# We can see that each and every review has been padded with 0s at it's \n",
    "# end to bring the lengths of all the datapoints on the same baseline\n",
    "[print(i) for i in padded_train[:5]]"
   ]
  },
  {
   "cell_type": "markdown",
   "metadata": {},
   "source": [
    "# Model Architecture"
   ]
  },
  {
   "cell_type": "markdown",
   "metadata": {},
   "source": [
    "Our training data has a vocabulary size of 1839.\n",
    "\n",
    "Each input has 30 words or 30 tokens associated with it.\n",
    "\n",
    "Let us choose an embedding dimension of 50 in order to keep things simple.\n",
    "\n",
    "Every word will return a 50 dimensional vector as it's embedded output.\n",
    "\n",
    "There are 30 such words per datapoint which means we'll be getting 30 * 50 = 1500 output activations which need to be flattened to bring them into one single layer which can be fed to the next FC layer for doing binary classification.\n",
    "\n",
    "Let's construct this model using the `Sequential` API in keras\n",
    "\n",
    "**NOTE: Embedding layer parameters**:\n",
    "\n",
    "- input_dim - It is the size of our vocabulary (1839 in our case).\n",
    "- input_length - Length of input sequences (30 in our case).\n",
    "- output_dimension - Dimension of the dense embedding (50 which we have arbit selected).\n",
    "\n",
    "[Refer this link](https://keras.io/layers/embeddings/) for details about several other parameters which we won't be using here."
   ]
  },
  {
   "cell_type": "code",
   "execution_count": 110,
   "metadata": {},
   "outputs": [],
   "source": [
    "d = 50 # It is the neurons in the embedding layer.\n",
    "model = Sequential([\n",
    "    Embedding(input_dim = vocab_size, input_length = max_length, output_dim = d),\n",
    "    Flatten(),\n",
    "    Dense(1, activation = 'sigmoid')\n",
    "])"
   ]
  },
  {
   "cell_type": "code",
   "execution_count": 111,
   "metadata": {},
   "outputs": [
    {
     "name": "stdout",
     "output_type": "stream",
     "text": [
      "Model: \"sequential_4\"\n",
      "_________________________________________________________________\n",
      "Layer (type)                 Output Shape              Param #   \n",
      "=================================================================\n",
      "embedding_4 (Embedding)      (None, 30, 50)            91950     \n",
      "_________________________________________________________________\n",
      "flatten_4 (Flatten)          (None, 1500)              0         \n",
      "_________________________________________________________________\n",
      "dense_4 (Dense)              (None, 1)                 1501      \n",
      "=================================================================\n",
      "Total params: 93,451\n",
      "Trainable params: 93,451\n",
      "Non-trainable params: 0\n",
      "_________________________________________________________________\n"
     ]
    }
   ],
   "source": [
    "model.summary()"
   ]
  },
  {
   "cell_type": "markdown",
   "metadata": {},
   "source": [
    "We see that the `Embedding` layer has to learn 50 * 1839 = 91950 weights to uniquely represent each word as a vector of dimension 50. \n",
    "\n",
    "Since each sentence/review is only 30 words long and each word is described by 50 neuron activations, we get the training parameters of the NN architecture in the first layer to be 30 * 50 = 1500 which are flattened with `Flatten` layer.\n",
    "\n",
    "Eventually we have a `Dense` layer which does the job of classifying the reviews into 1s(positive) or 0s(negative)\n",
    "\n",
    "Let's now compile the model and use sgd with learning rate 0.01 to optimize the loss."
   ]
  },
  {
   "cell_type": "code",
   "execution_count": 112,
   "metadata": {},
   "outputs": [],
   "source": [
    "model.compile(optimizer = SGD(lr = learning_rate), loss =  'binary_crossentropy', \n",
    "              metrics = ['accuracy'])"
   ]
  },
  {
   "cell_type": "markdown",
   "metadata": {},
   "source": [
    "# Fit & Evaluate the Model"
   ]
  },
  {
   "cell_type": "code",
   "execution_count": 113,
   "metadata": {
    "scrolled": true
   },
   "outputs": [
    {
     "name": "stdout",
     "output_type": "stream",
     "text": [
      "Train on 760 samples, validate on 190 samples\n",
      "Epoch 1/200\n",
      "760/760 [==============================] - 0s 346us/step - loss: 0.6924 - accuracy: 0.5276 - val_loss: 0.6945 - val_accuracy: 0.4737\n",
      "Epoch 2/200\n",
      "760/760 [==============================] - 0s 92us/step - loss: 0.6918 - accuracy: 0.5395 - val_loss: 0.6961 - val_accuracy: 0.4737\n",
      "Epoch 3/200\n",
      "760/760 [==============================] - 0s 97us/step - loss: 0.6910 - accuracy: 0.5303 - val_loss: 0.6950 - val_accuracy: 0.4789\n",
      "Epoch 4/200\n",
      "760/760 [==============================] - 0s 101us/step - loss: 0.6900 - accuracy: 0.5553 - val_loss: 0.6951 - val_accuracy: 0.4737\n",
      "Epoch 5/200\n",
      "760/760 [==============================] - 0s 138us/step - loss: 0.6894 - accuracy: 0.5316 - val_loss: 0.6938 - val_accuracy: 0.4895\n",
      "Epoch 6/200\n",
      "760/760 [==============================] - 0s 93us/step - loss: 0.6884 - accuracy: 0.5408 - val_loss: 0.6919 - val_accuracy: 0.5421\n",
      "Epoch 7/200\n",
      "760/760 [==============================] - 0s 124us/step - loss: 0.6876 - accuracy: 0.6013 - val_loss: 0.6940 - val_accuracy: 0.4789\n",
      "Epoch 8/200\n",
      "760/760 [==============================] - 0s 124us/step - loss: 0.6869 - accuracy: 0.5632 - val_loss: 0.6928 - val_accuracy: 0.5105\n",
      "Epoch 9/200\n",
      "760/760 [==============================] - 0s 103us/step - loss: 0.6863 - accuracy: 0.5974 - val_loss: 0.6933 - val_accuracy: 0.4789\n",
      "Epoch 10/200\n",
      "760/760 [==============================] - 0s 118us/step - loss: 0.6856 - accuracy: 0.5671 - val_loss: 0.6922 - val_accuracy: 0.5211\n",
      "Epoch 11/200\n",
      "760/760 [==============================] - 0s 114us/step - loss: 0.6843 - accuracy: 0.5974 - val_loss: 0.6916 - val_accuracy: 0.5263\n",
      "Epoch 12/200\n",
      "760/760 [==============================] - 0s 101us/step - loss: 0.6839 - accuracy: 0.5987 - val_loss: 0.6922 - val_accuracy: 0.5316\n",
      "Epoch 13/200\n",
      "760/760 [==============================] - 0s 100us/step - loss: 0.6829 - accuracy: 0.6132 - val_loss: 0.6922 - val_accuracy: 0.5421\n",
      "Epoch 14/200\n",
      "760/760 [==============================] - 0s 104us/step - loss: 0.6821 - accuracy: 0.6039 - val_loss: 0.6910 - val_accuracy: 0.5158\n",
      "Epoch 15/200\n",
      "760/760 [==============================] - 0s 116us/step - loss: 0.6809 - accuracy: 0.6145 - val_loss: 0.6928 - val_accuracy: 0.5263\n",
      "Epoch 16/200\n",
      "760/760 [==============================] - 0s 110us/step - loss: 0.6802 - accuracy: 0.6171 - val_loss: 0.6911 - val_accuracy: 0.5211\n",
      "Epoch 17/200\n",
      "760/760 [==============================] - 0s 117us/step - loss: 0.6792 - accuracy: 0.5961 - val_loss: 0.6884 - val_accuracy: 0.5368\n",
      "Epoch 18/200\n",
      "760/760 [==============================] - 0s 120us/step - loss: 0.6783 - accuracy: 0.6092 - val_loss: 0.6868 - val_accuracy: 0.5579\n",
      "Epoch 19/200\n",
      "760/760 [==============================] - 0s 125us/step - loss: 0.6772 - accuracy: 0.6158 - val_loss: 0.6893 - val_accuracy: 0.5368\n",
      "Epoch 20/200\n",
      "760/760 [==============================] - 0s 120us/step - loss: 0.6760 - accuracy: 0.6342 - val_loss: 0.6878 - val_accuracy: 0.5316\n",
      "Epoch 21/200\n",
      "760/760 [==============================] - 0s 104us/step - loss: 0.6750 - accuracy: 0.6171 - val_loss: 0.6889 - val_accuracy: 0.5421\n",
      "Epoch 22/200\n",
      "760/760 [==============================] - 0s 118us/step - loss: 0.6739 - accuracy: 0.6145 - val_loss: 0.6887 - val_accuracy: 0.5474\n",
      "Epoch 23/200\n",
      "760/760 [==============================] - 0s 93us/step - loss: 0.6724 - accuracy: 0.6408 - val_loss: 0.6869 - val_accuracy: 0.5421\n",
      "Epoch 24/200\n",
      "760/760 [==============================] - 0s 99us/step - loss: 0.6709 - accuracy: 0.6329 - val_loss: 0.6876 - val_accuracy: 0.5526\n",
      "Epoch 25/200\n",
      "760/760 [==============================] - 0s 108us/step - loss: 0.6695 - accuracy: 0.6526 - val_loss: 0.6875 - val_accuracy: 0.5684\n",
      "Epoch 26/200\n",
      "760/760 [==============================] - 0s 109us/step - loss: 0.6684 - accuracy: 0.6645 - val_loss: 0.6846 - val_accuracy: 0.5421\n",
      "Epoch 27/200\n",
      "760/760 [==============================] - 0s 124us/step - loss: 0.6667 - accuracy: 0.6658 - val_loss: 0.6808 - val_accuracy: 0.5789\n",
      "Epoch 28/200\n",
      "760/760 [==============================] - 0s 114us/step - loss: 0.6657 - accuracy: 0.6513 - val_loss: 0.6833 - val_accuracy: 0.5421\n",
      "Epoch 29/200\n",
      "760/760 [==============================] - 0s 118us/step - loss: 0.6636 - accuracy: 0.6526 - val_loss: 0.6838 - val_accuracy: 0.5632\n",
      "Epoch 30/200\n",
      "760/760 [==============================] - 0s 124us/step - loss: 0.6619 - accuracy: 0.6566 - val_loss: 0.6821 - val_accuracy: 0.5421\n",
      "Epoch 31/200\n",
      "760/760 [==============================] - 0s 117us/step - loss: 0.6599 - accuracy: 0.6645 - val_loss: 0.6827 - val_accuracy: 0.5789\n",
      "Epoch 32/200\n",
      "760/760 [==============================] - 0s 95us/step - loss: 0.6579 - accuracy: 0.6711 - val_loss: 0.6837 - val_accuracy: 0.6000\n",
      "Epoch 33/200\n",
      "760/760 [==============================] - 0s 121us/step - loss: 0.6563 - accuracy: 0.6908 - val_loss: 0.6791 - val_accuracy: 0.5526\n",
      "Epoch 34/200\n",
      "760/760 [==============================] - 0s 125us/step - loss: 0.6540 - accuracy: 0.6882 - val_loss: 0.6776 - val_accuracy: 0.5474\n",
      "Epoch 35/200\n",
      "760/760 [==============================] - 0s 105us/step - loss: 0.6516 - accuracy: 0.6947 - val_loss: 0.6780 - val_accuracy: 0.5789\n",
      "Epoch 36/200\n",
      "760/760 [==============================] - 0s 116us/step - loss: 0.6495 - accuracy: 0.7026 - val_loss: 0.6768 - val_accuracy: 0.5789\n",
      "Epoch 37/200\n",
      "760/760 [==============================] - 0s 117us/step - loss: 0.6472 - accuracy: 0.7092 - val_loss: 0.6732 - val_accuracy: 0.5632\n",
      "Epoch 38/200\n",
      "760/760 [==============================] - 0s 128us/step - loss: 0.6447 - accuracy: 0.7145 - val_loss: 0.6707 - val_accuracy: 0.5632\n",
      "Epoch 39/200\n",
      "760/760 [==============================] - 0s 116us/step - loss: 0.6420 - accuracy: 0.7092 - val_loss: 0.6731 - val_accuracy: 0.5895\n",
      "Epoch 40/200\n",
      "760/760 [==============================] - 0s 128us/step - loss: 0.6392 - accuracy: 0.7329 - val_loss: 0.6705 - val_accuracy: 0.5947\n",
      "Epoch 41/200\n",
      "760/760 [==============================] - 0s 129us/step - loss: 0.6364 - accuracy: 0.7289 - val_loss: 0.6689 - val_accuracy: 0.5895\n",
      "Epoch 42/200\n",
      "760/760 [==============================] - 0s 78us/step - loss: 0.6334 - accuracy: 0.7276 - val_loss: 0.6680 - val_accuracy: 0.6000\n",
      "Epoch 43/200\n",
      "760/760 [==============================] - 0s 113us/step - loss: 0.6298 - accuracy: 0.7526 - val_loss: 0.6660 - val_accuracy: 0.5895\n",
      "Epoch 44/200\n",
      "760/760 [==============================] - 0s 93us/step - loss: 0.6262 - accuracy: 0.7474 - val_loss: 0.6702 - val_accuracy: 0.6105\n",
      "Epoch 45/200\n",
      "760/760 [==============================] - 0s 87us/step - loss: 0.6235 - accuracy: 0.7553 - val_loss: 0.6602 - val_accuracy: 0.5737\n",
      "Epoch 46/200\n",
      "760/760 [==============================] - 0s 97us/step - loss: 0.6194 - accuracy: 0.7645 - val_loss: 0.6588 - val_accuracy: 0.5895\n",
      "Epoch 47/200\n",
      "760/760 [==============================] - 0s 93us/step - loss: 0.6158 - accuracy: 0.7684 - val_loss: 0.6575 - val_accuracy: 0.5895\n",
      "Epoch 48/200\n",
      "760/760 [==============================] - 0s 96us/step - loss: 0.6122 - accuracy: 0.7671 - val_loss: 0.6546 - val_accuracy: 0.5947\n",
      "Epoch 49/200\n",
      "760/760 [==============================] - 0s 110us/step - loss: 0.6083 - accuracy: 0.7618 - val_loss: 0.6540 - val_accuracy: 0.6000\n",
      "Epoch 50/200\n",
      "760/760 [==============================] - 0s 100us/step - loss: 0.6040 - accuracy: 0.7829 - val_loss: 0.6496 - val_accuracy: 0.6000\n",
      "Epoch 51/200\n",
      "760/760 [==============================] - 0s 110us/step - loss: 0.5989 - accuracy: 0.7842 - val_loss: 0.6432 - val_accuracy: 0.6105\n",
      "Epoch 52/200\n",
      "760/760 [==============================] - 0s 91us/step - loss: 0.5959 - accuracy: 0.7934 - val_loss: 0.6438 - val_accuracy: 0.6211\n",
      "Epoch 53/200\n",
      "760/760 [==============================] - 0s 107us/step - loss: 0.5912 - accuracy: 0.7921 - val_loss: 0.6456 - val_accuracy: 0.6211\n",
      "Epoch 54/200\n",
      "760/760 [==============================] - 0s 108us/step - loss: 0.5861 - accuracy: 0.8105 - val_loss: 0.6440 - val_accuracy: 0.6158\n",
      "Epoch 55/200\n",
      "760/760 [==============================] - 0s 105us/step - loss: 0.5813 - accuracy: 0.8079 - val_loss: 0.6375 - val_accuracy: 0.6263\n",
      "Epoch 56/200\n",
      "760/760 [==============================] - 0s 105us/step - loss: 0.5767 - accuracy: 0.8145 - val_loss: 0.6366 - val_accuracy: 0.6211\n"
     ]
    },
    {
     "name": "stdout",
     "output_type": "stream",
     "text": [
      "Epoch 57/200\n",
      "760/760 [==============================] - 0s 89us/step - loss: 0.5715 - accuracy: 0.8132 - val_loss: 0.6354 - val_accuracy: 0.6211\n",
      "Epoch 58/200\n",
      "760/760 [==============================] - 0s 93us/step - loss: 0.5668 - accuracy: 0.8211 - val_loss: 0.6291 - val_accuracy: 0.6316\n",
      "Epoch 59/200\n",
      "760/760 [==============================] - 0s 76us/step - loss: 0.5613 - accuracy: 0.8197 - val_loss: 0.6308 - val_accuracy: 0.6053\n",
      "Epoch 60/200\n",
      "760/760 [==============================] - 0s 76us/step - loss: 0.5564 - accuracy: 0.8158 - val_loss: 0.6217 - val_accuracy: 0.6632\n",
      "Epoch 61/200\n",
      "760/760 [==============================] - 0s 72us/step - loss: 0.5508 - accuracy: 0.8237 - val_loss: 0.6213 - val_accuracy: 0.6474\n",
      "Epoch 62/200\n",
      "760/760 [==============================] - 0s 75us/step - loss: 0.5458 - accuracy: 0.8316 - val_loss: 0.6168 - val_accuracy: 0.6632\n",
      "Epoch 63/200\n",
      "760/760 [==============================] - 0s 68us/step - loss: 0.5401 - accuracy: 0.8316 - val_loss: 0.6124 - val_accuracy: 0.6579\n",
      "Epoch 64/200\n",
      "760/760 [==============================] - 0s 75us/step - loss: 0.5344 - accuracy: 0.8395 - val_loss: 0.6098 - val_accuracy: 0.6684\n",
      "Epoch 65/200\n",
      "760/760 [==============================] - 0s 78us/step - loss: 0.5288 - accuracy: 0.8395 - val_loss: 0.6102 - val_accuracy: 0.6579\n",
      "Epoch 66/200\n",
      "760/760 [==============================] - 0s 76us/step - loss: 0.5230 - accuracy: 0.8342 - val_loss: 0.6051 - val_accuracy: 0.6632\n",
      "Epoch 67/200\n",
      "760/760 [==============================] - 0s 87us/step - loss: 0.5173 - accuracy: 0.8355 - val_loss: 0.5977 - val_accuracy: 0.6737\n",
      "Epoch 68/200\n",
      "760/760 [==============================] - 0s 95us/step - loss: 0.5118 - accuracy: 0.8447 - val_loss: 0.5979 - val_accuracy: 0.6632\n",
      "Epoch 69/200\n",
      "760/760 [==============================] - 0s 92us/step - loss: 0.5059 - accuracy: 0.8461 - val_loss: 0.5917 - val_accuracy: 0.6842\n",
      "Epoch 70/200\n",
      "760/760 [==============================] - 0s 85us/step - loss: 0.5002 - accuracy: 0.8500 - val_loss: 0.5924 - val_accuracy: 0.6684\n",
      "Epoch 71/200\n",
      "760/760 [==============================] - 0s 74us/step - loss: 0.4946 - accuracy: 0.8539 - val_loss: 0.5918 - val_accuracy: 0.6526\n",
      "Epoch 72/200\n",
      "760/760 [==============================] - 0s 75us/step - loss: 0.4891 - accuracy: 0.8592 - val_loss: 0.5855 - val_accuracy: 0.6684\n",
      "Epoch 73/200\n",
      "760/760 [==============================] - 0s 70us/step - loss: 0.4826 - accuracy: 0.8605 - val_loss: 0.5846 - val_accuracy: 0.6526\n",
      "Epoch 74/200\n",
      "760/760 [==============================] - 0s 76us/step - loss: 0.4770 - accuracy: 0.8658 - val_loss: 0.5767 - val_accuracy: 0.6842\n",
      "Epoch 75/200\n",
      "760/760 [==============================] - 0s 78us/step - loss: 0.4717 - accuracy: 0.8605 - val_loss: 0.5761 - val_accuracy: 0.6842\n",
      "Epoch 76/200\n",
      "760/760 [==============================] - 0s 68us/step - loss: 0.4658 - accuracy: 0.8711 - val_loss: 0.5731 - val_accuracy: 0.6842\n",
      "Epoch 77/200\n",
      "760/760 [==============================] - 0s 74us/step - loss: 0.4601 - accuracy: 0.8632 - val_loss: 0.5676 - val_accuracy: 0.7105\n",
      "Epoch 78/200\n",
      "760/760 [==============================] - 0s 78us/step - loss: 0.4557 - accuracy: 0.8684 - val_loss: 0.5653 - val_accuracy: 0.7105\n",
      "Epoch 79/200\n",
      "760/760 [==============================] - 0s 78us/step - loss: 0.4492 - accuracy: 0.8750 - val_loss: 0.5657 - val_accuracy: 0.6895\n",
      "Epoch 80/200\n",
      "760/760 [==============================] - 0s 76us/step - loss: 0.4438 - accuracy: 0.8737 - val_loss: 0.5624 - val_accuracy: 0.6842\n",
      "Epoch 81/200\n",
      "760/760 [==============================] - 0s 99us/step - loss: 0.4383 - accuracy: 0.8803 - val_loss: 0.5569 - val_accuracy: 0.7211\n",
      "Epoch 82/200\n",
      "760/760 [==============================] - 0s 78us/step - loss: 0.4338 - accuracy: 0.8855 - val_loss: 0.5547 - val_accuracy: 0.7211\n",
      "Epoch 83/200\n",
      "760/760 [==============================] - 0s 91us/step - loss: 0.4275 - accuracy: 0.8908 - val_loss: 0.5590 - val_accuracy: 0.6737\n",
      "Epoch 84/200\n",
      "760/760 [==============================] - 0s 80us/step - loss: 0.4222 - accuracy: 0.8868 - val_loss: 0.5533 - val_accuracy: 0.6895\n",
      "Epoch 85/200\n",
      "760/760 [==============================] - 0s 70us/step - loss: 0.4172 - accuracy: 0.8974 - val_loss: 0.5506 - val_accuracy: 0.7053\n",
      "Epoch 86/200\n",
      "760/760 [==============================] - 0s 87us/step - loss: 0.4119 - accuracy: 0.8908 - val_loss: 0.5481 - val_accuracy: 0.7105\n",
      "Epoch 87/200\n",
      "760/760 [==============================] - 0s 96us/step - loss: 0.4066 - accuracy: 0.8921 - val_loss: 0.5487 - val_accuracy: 0.6789\n",
      "Epoch 88/200\n",
      "760/760 [==============================] - 0s 78us/step - loss: 0.4016 - accuracy: 0.8947 - val_loss: 0.5514 - val_accuracy: 0.6842\n",
      "Epoch 89/200\n",
      "760/760 [==============================] - 0s 71us/step - loss: 0.3965 - accuracy: 0.8961 - val_loss: 0.5424 - val_accuracy: 0.7000\n",
      "Epoch 90/200\n",
      "760/760 [==============================] - 0s 71us/step - loss: 0.3916 - accuracy: 0.8987 - val_loss: 0.5381 - val_accuracy: 0.7263\n",
      "Epoch 91/200\n",
      "760/760 [==============================] - 0s 87us/step - loss: 0.3865 - accuracy: 0.9066 - val_loss: 0.5360 - val_accuracy: 0.7316\n",
      "Epoch 92/200\n",
      "760/760 [==============================] - 0s 79us/step - loss: 0.3812 - accuracy: 0.9105 - val_loss: 0.5408 - val_accuracy: 0.6789\n",
      "Epoch 93/200\n",
      "760/760 [==============================] - 0s 82us/step - loss: 0.3767 - accuracy: 0.9092 - val_loss: 0.5348 - val_accuracy: 0.7105\n",
      "Epoch 94/200\n",
      "760/760 [==============================] - 0s 76us/step - loss: 0.3718 - accuracy: 0.9105 - val_loss: 0.5364 - val_accuracy: 0.6947\n",
      "Epoch 95/200\n",
      "760/760 [==============================] - 0s 75us/step - loss: 0.3672 - accuracy: 0.9118 - val_loss: 0.5316 - val_accuracy: 0.7158\n",
      "Epoch 96/200\n",
      "760/760 [==============================] - 0s 99us/step - loss: 0.3626 - accuracy: 0.9092 - val_loss: 0.5314 - val_accuracy: 0.7105\n",
      "Epoch 97/200\n",
      "760/760 [==============================] - 0s 79us/step - loss: 0.3580 - accuracy: 0.9132 - val_loss: 0.5251 - val_accuracy: 0.7316\n",
      "Epoch 98/200\n",
      "760/760 [==============================] - 0s 93us/step - loss: 0.3530 - accuracy: 0.9224 - val_loss: 0.5269 - val_accuracy: 0.7105\n",
      "Epoch 99/200\n",
      "760/760 [==============================] - 0s 95us/step - loss: 0.3488 - accuracy: 0.9158 - val_loss: 0.5230 - val_accuracy: 0.7316\n",
      "Epoch 100/200\n",
      "760/760 [==============================] - 0s 80us/step - loss: 0.3441 - accuracy: 0.9224 - val_loss: 0.5208 - val_accuracy: 0.7421\n",
      "Epoch 101/200\n",
      "760/760 [==============================] - 0s 79us/step - loss: 0.3400 - accuracy: 0.9211 - val_loss: 0.5211 - val_accuracy: 0.7368\n",
      "Epoch 102/200\n",
      "760/760 [==============================] - 0s 91us/step - loss: 0.3359 - accuracy: 0.9224 - val_loss: 0.5205 - val_accuracy: 0.7316\n",
      "Epoch 103/200\n",
      "760/760 [==============================] - 0s 103us/step - loss: 0.3313 - accuracy: 0.9303 - val_loss: 0.5184 - val_accuracy: 0.7421\n",
      "Epoch 104/200\n",
      "760/760 [==============================] - 0s 105us/step - loss: 0.3261 - accuracy: 0.9368 - val_loss: 0.5182 - val_accuracy: 0.7158\n",
      "Epoch 105/200\n",
      "760/760 [==============================] - 0s 92us/step - loss: 0.3225 - accuracy: 0.9368 - val_loss: 0.5200 - val_accuracy: 0.7158\n",
      "Epoch 106/200\n",
      "760/760 [==============================] - 0s 96us/step - loss: 0.3179 - accuracy: 0.9329 - val_loss: 0.5135 - val_accuracy: 0.7316\n",
      "Epoch 107/200\n",
      "760/760 [==============================] - 0s 103us/step - loss: 0.3147 - accuracy: 0.9408 - val_loss: 0.5142 - val_accuracy: 0.7316\n",
      "Epoch 108/200\n",
      "760/760 [==============================] - 0s 88us/step - loss: 0.3098 - accuracy: 0.9434 - val_loss: 0.5134 - val_accuracy: 0.7368\n",
      "Epoch 109/200\n",
      "760/760 [==============================] - 0s 89us/step - loss: 0.3070 - accuracy: 0.9368 - val_loss: 0.5111 - val_accuracy: 0.7263\n",
      "Epoch 110/200\n",
      "760/760 [==============================] - 0s 101us/step - loss: 0.3023 - accuracy: 0.9421 - val_loss: 0.5119 - val_accuracy: 0.7316\n",
      "Epoch 111/200\n",
      "760/760 [==============================] - 0s 91us/step - loss: 0.2982 - accuracy: 0.9500 - val_loss: 0.5088 - val_accuracy: 0.7263\n",
      "Epoch 112/200\n",
      "760/760 [==============================] - 0s 113us/step - loss: 0.2941 - accuracy: 0.9474 - val_loss: 0.5082 - val_accuracy: 0.7263\n",
      "Epoch 113/200\n"
     ]
    },
    {
     "name": "stdout",
     "output_type": "stream",
     "text": [
      "760/760 [==============================] - 0s 114us/step - loss: 0.2900 - accuracy: 0.9474 - val_loss: 0.5061 - val_accuracy: 0.7421\n",
      "Epoch 114/200\n",
      "760/760 [==============================] - 0s 100us/step - loss: 0.2872 - accuracy: 0.9500 - val_loss: 0.5074 - val_accuracy: 0.7316\n",
      "Epoch 115/200\n",
      "760/760 [==============================] - 0s 88us/step - loss: 0.2830 - accuracy: 0.9500 - val_loss: 0.5069 - val_accuracy: 0.7316\n",
      "Epoch 116/200\n",
      "760/760 [==============================] - 0s 74us/step - loss: 0.2797 - accuracy: 0.9539 - val_loss: 0.5060 - val_accuracy: 0.7316\n",
      "Epoch 117/200\n",
      "760/760 [==============================] - 0s 71us/step - loss: 0.2749 - accuracy: 0.9579 - val_loss: 0.5031 - val_accuracy: 0.7474\n",
      "Epoch 118/200\n",
      "760/760 [==============================] - 0s 67us/step - loss: 0.2714 - accuracy: 0.9592 - val_loss: 0.5037 - val_accuracy: 0.7316\n",
      "Epoch 119/200\n",
      "760/760 [==============================] - 0s 76us/step - loss: 0.2684 - accuracy: 0.9539 - val_loss: 0.5040 - val_accuracy: 0.7316\n",
      "Epoch 120/200\n",
      "760/760 [==============================] - 0s 70us/step - loss: 0.2645 - accuracy: 0.9592 - val_loss: 0.5028 - val_accuracy: 0.7316\n",
      "Epoch 121/200\n",
      "760/760 [==============================] - 0s 70us/step - loss: 0.2607 - accuracy: 0.9618 - val_loss: 0.5048 - val_accuracy: 0.7368\n",
      "Epoch 122/200\n",
      "760/760 [==============================] - 0s 76us/step - loss: 0.2579 - accuracy: 0.9605 - val_loss: 0.5024 - val_accuracy: 0.7316\n",
      "Epoch 123/200\n",
      "760/760 [==============================] - 0s 71us/step - loss: 0.2539 - accuracy: 0.9632 - val_loss: 0.5024 - val_accuracy: 0.7368\n",
      "Epoch 124/200\n",
      "760/760 [==============================] - 0s 80us/step - loss: 0.2513 - accuracy: 0.9645 - val_loss: 0.4996 - val_accuracy: 0.7368\n",
      "Epoch 125/200\n",
      "760/760 [==============================] - 0s 80us/step - loss: 0.2482 - accuracy: 0.9684 - val_loss: 0.5005 - val_accuracy: 0.7368\n",
      "Epoch 126/200\n",
      "760/760 [==============================] - 0s 79us/step - loss: 0.2432 - accuracy: 0.9671 - val_loss: 0.5034 - val_accuracy: 0.7368\n",
      "Epoch 127/200\n",
      "760/760 [==============================] - 0s 97us/step - loss: 0.2400 - accuracy: 0.9632 - val_loss: 0.4988 - val_accuracy: 0.7421\n",
      "Epoch 128/200\n",
      "760/760 [==============================] - 0s 74us/step - loss: 0.2384 - accuracy: 0.9632 - val_loss: 0.4988 - val_accuracy: 0.7421\n",
      "Epoch 129/200\n",
      "760/760 [==============================] - 0s 88us/step - loss: 0.2353 - accuracy: 0.9658 - val_loss: 0.5031 - val_accuracy: 0.7421\n",
      "Epoch 130/200\n",
      "760/760 [==============================] - 0s 75us/step - loss: 0.2313 - accuracy: 0.9671 - val_loss: 0.5010 - val_accuracy: 0.7421\n",
      "Epoch 131/200\n",
      "760/760 [==============================] - 0s 89us/step - loss: 0.2285 - accuracy: 0.9684 - val_loss: 0.5007 - val_accuracy: 0.7421\n",
      "Epoch 132/200\n",
      "760/760 [==============================] - 0s 80us/step - loss: 0.2257 - accuracy: 0.9711 - val_loss: 0.4979 - val_accuracy: 0.7421\n",
      "Epoch 133/200\n",
      "760/760 [==============================] - 0s 75us/step - loss: 0.2225 - accuracy: 0.9697 - val_loss: 0.4999 - val_accuracy: 0.7421\n",
      "Epoch 134/200\n",
      "760/760 [==============================] - 0s 88us/step - loss: 0.2197 - accuracy: 0.9724 - val_loss: 0.5016 - val_accuracy: 0.7474\n",
      "Epoch 135/200\n",
      "760/760 [==============================] - 0s 79us/step - loss: 0.2169 - accuracy: 0.9750 - val_loss: 0.5003 - val_accuracy: 0.7474\n",
      "Epoch 136/200\n",
      "760/760 [==============================] - 0s 76us/step - loss: 0.2134 - accuracy: 0.9737 - val_loss: 0.4993 - val_accuracy: 0.7421\n",
      "Epoch 137/200\n",
      "760/760 [==============================] - 0s 70us/step - loss: 0.2112 - accuracy: 0.9750 - val_loss: 0.5022 - val_accuracy: 0.7474\n",
      "Epoch 138/200\n",
      "760/760 [==============================] - 0s 75us/step - loss: 0.2088 - accuracy: 0.9750 - val_loss: 0.4977 - val_accuracy: 0.7474\n",
      "Epoch 139/200\n",
      "760/760 [==============================] - 0s 78us/step - loss: 0.2054 - accuracy: 0.9750 - val_loss: 0.4958 - val_accuracy: 0.7316\n",
      "Epoch 140/200\n",
      "760/760 [==============================] - 0s 74us/step - loss: 0.2029 - accuracy: 0.9789 - val_loss: 0.4999 - val_accuracy: 0.7474\n",
      "Epoch 141/200\n",
      "760/760 [==============================] - 0s 76us/step - loss: 0.2004 - accuracy: 0.9763 - val_loss: 0.4987 - val_accuracy: 0.7474\n",
      "Epoch 142/200\n",
      "760/760 [==============================] - 0s 74us/step - loss: 0.1971 - accuracy: 0.9789 - val_loss: 0.5028 - val_accuracy: 0.7421\n",
      "Epoch 143/200\n",
      "760/760 [==============================] - 0s 95us/step - loss: 0.1950 - accuracy: 0.9737 - val_loss: 0.4955 - val_accuracy: 0.7368\n",
      "Epoch 144/200\n",
      "760/760 [==============================] - 0s 89us/step - loss: 0.1930 - accuracy: 0.9776 - val_loss: 0.4973 - val_accuracy: 0.7421\n",
      "Epoch 145/200\n",
      "760/760 [==============================] - 0s 91us/step - loss: 0.1889 - accuracy: 0.9816 - val_loss: 0.4961 - val_accuracy: 0.7368\n",
      "Epoch 146/200\n",
      "760/760 [==============================] - 0s 79us/step - loss: 0.1871 - accuracy: 0.9776 - val_loss: 0.4965 - val_accuracy: 0.7474\n",
      "Epoch 147/200\n",
      "760/760 [==============================] - 0s 75us/step - loss: 0.1849 - accuracy: 0.9816 - val_loss: 0.5000 - val_accuracy: 0.7474\n",
      "Epoch 148/200\n",
      "760/760 [==============================] - 0s 70us/step - loss: 0.1818 - accuracy: 0.9803 - val_loss: 0.4995 - val_accuracy: 0.7579\n",
      "Epoch 149/200\n",
      "760/760 [==============================] - 0s 74us/step - loss: 0.1798 - accuracy: 0.9803 - val_loss: 0.4980 - val_accuracy: 0.7474\n",
      "Epoch 150/200\n",
      "760/760 [==============================] - 0s 85us/step - loss: 0.1774 - accuracy: 0.9829 - val_loss: 0.4979 - val_accuracy: 0.7526\n",
      "Epoch 151/200\n",
      "760/760 [==============================] - 0s 91us/step - loss: 0.1748 - accuracy: 0.9803 - val_loss: 0.5026 - val_accuracy: 0.7474\n",
      "Epoch 152/200\n",
      "760/760 [==============================] - 0s 80us/step - loss: 0.1728 - accuracy: 0.9816 - val_loss: 0.4982 - val_accuracy: 0.7526\n",
      "Epoch 153/200\n",
      "760/760 [==============================] - 0s 99us/step - loss: 0.1703 - accuracy: 0.9829 - val_loss: 0.4991 - val_accuracy: 0.7579\n",
      "Epoch 154/200\n",
      "760/760 [==============================] - 0s 89us/step - loss: 0.1679 - accuracy: 0.9842 - val_loss: 0.4976 - val_accuracy: 0.7421\n",
      "Epoch 155/200\n",
      "760/760 [==============================] - 0s 97us/step - loss: 0.1662 - accuracy: 0.9842 - val_loss: 0.4971 - val_accuracy: 0.7474\n",
      "Epoch 156/200\n",
      "760/760 [==============================] - 0s 99us/step - loss: 0.1634 - accuracy: 0.9855 - val_loss: 0.5006 - val_accuracy: 0.7579\n",
      "Epoch 157/200\n",
      "760/760 [==============================] - 0s 96us/step - loss: 0.1616 - accuracy: 0.9855 - val_loss: 0.4992 - val_accuracy: 0.7526\n",
      "Epoch 158/200\n",
      "760/760 [==============================] - 0s 87us/step - loss: 0.1602 - accuracy: 0.9855 - val_loss: 0.5003 - val_accuracy: 0.7579\n",
      "Epoch 159/200\n",
      "760/760 [==============================] - 0s 112us/step - loss: 0.1573 - accuracy: 0.9895 - val_loss: 0.4980 - val_accuracy: 0.7474\n",
      "Epoch 160/200\n",
      "760/760 [==============================] - 0s 76us/step - loss: 0.1553 - accuracy: 0.9882 - val_loss: 0.4983 - val_accuracy: 0.7474\n",
      "Epoch 161/200\n",
      "760/760 [==============================] - 0s 74us/step - loss: 0.1532 - accuracy: 0.9895 - val_loss: 0.5009 - val_accuracy: 0.7579\n",
      "Epoch 162/200\n",
      "760/760 [==============================] - 0s 70us/step - loss: 0.1511 - accuracy: 0.9895 - val_loss: 0.5005 - val_accuracy: 0.7632\n",
      "Epoch 163/200\n",
      "760/760 [==============================] - 0s 70us/step - loss: 0.1494 - accuracy: 0.9882 - val_loss: 0.5013 - val_accuracy: 0.7632\n",
      "Epoch 164/200\n",
      "760/760 [==============================] - 0s 75us/step - loss: 0.1474 - accuracy: 0.9921 - val_loss: 0.5006 - val_accuracy: 0.7579\n",
      "Epoch 165/200\n",
      "760/760 [==============================] - 0s 76us/step - loss: 0.1457 - accuracy: 0.9882 - val_loss: 0.5022 - val_accuracy: 0.7632\n",
      "Epoch 166/200\n",
      "760/760 [==============================] - 0s 82us/step - loss: 0.1436 - accuracy: 0.9908 - val_loss: 0.5029 - val_accuracy: 0.7632\n",
      "Epoch 167/200\n",
      "760/760 [==============================] - 0s 93us/step - loss: 0.1418 - accuracy: 0.9921 - val_loss: 0.5034 - val_accuracy: 0.7632\n",
      "Epoch 168/200\n",
      "760/760 [==============================] - 0s 78us/step - loss: 0.1401 - accuracy: 0.9908 - val_loss: 0.5025 - val_accuracy: 0.7632\n",
      "Epoch 169/200\n"
     ]
    },
    {
     "name": "stdout",
     "output_type": "stream",
     "text": [
      "760/760 [==============================] - 0s 103us/step - loss: 0.1390 - accuracy: 0.9934 - val_loss: 0.5031 - val_accuracy: 0.7632\n",
      "Epoch 170/200\n",
      "760/760 [==============================] - 0s 95us/step - loss: 0.1364 - accuracy: 0.9947 - val_loss: 0.5016 - val_accuracy: 0.7579\n",
      "Epoch 171/200\n",
      "760/760 [==============================] - 0s 72us/step - loss: 0.1349 - accuracy: 0.9947 - val_loss: 0.5020 - val_accuracy: 0.7526\n",
      "Epoch 172/200\n",
      "760/760 [==============================] - 0s 93us/step - loss: 0.1323 - accuracy: 0.9934 - val_loss: 0.5069 - val_accuracy: 0.7579\n",
      "Epoch 173/200\n",
      "760/760 [==============================] - 0s 75us/step - loss: 0.1313 - accuracy: 0.9947 - val_loss: 0.5039 - val_accuracy: 0.7579\n",
      "Epoch 174/200\n",
      "760/760 [==============================] - 0s 93us/step - loss: 0.1298 - accuracy: 0.9947 - val_loss: 0.5066 - val_accuracy: 0.7632\n",
      "Epoch 175/200\n",
      "760/760 [==============================] - 0s 107us/step - loss: 0.1277 - accuracy: 0.9947 - val_loss: 0.5079 - val_accuracy: 0.7579\n",
      "Epoch 176/200\n",
      "760/760 [==============================] - 0s 103us/step - loss: 0.1263 - accuracy: 0.9961 - val_loss: 0.5045 - val_accuracy: 0.7579\n",
      "Epoch 177/200\n",
      "760/760 [==============================] - 0s 93us/step - loss: 0.1249 - accuracy: 0.9987 - val_loss: 0.5043 - val_accuracy: 0.7526\n",
      "Epoch 178/200\n",
      "760/760 [==============================] - 0s 103us/step - loss: 0.1228 - accuracy: 0.9987 - val_loss: 0.5099 - val_accuracy: 0.7632\n",
      "Epoch 179/200\n",
      "760/760 [==============================] - 0s 96us/step - loss: 0.1218 - accuracy: 0.9974 - val_loss: 0.5092 - val_accuracy: 0.7632\n",
      "Epoch 180/200\n",
      "760/760 [==============================] - 0s 107us/step - loss: 0.1203 - accuracy: 0.9974 - val_loss: 0.5071 - val_accuracy: 0.7579\n",
      "Epoch 181/200\n",
      "760/760 [==============================] - 0s 103us/step - loss: 0.1182 - accuracy: 0.9987 - val_loss: 0.5093 - val_accuracy: 0.7632\n",
      "Epoch 182/200\n",
      "760/760 [==============================] - 0s 110us/step - loss: 0.1174 - accuracy: 0.9987 - val_loss: 0.5074 - val_accuracy: 0.7579\n",
      "Epoch 183/200\n",
      "760/760 [==============================] - 0s 105us/step - loss: 0.1157 - accuracy: 0.9987 - val_loss: 0.5080 - val_accuracy: 0.7579\n",
      "Epoch 184/200\n",
      "760/760 [==============================] - 0s 112us/step - loss: 0.1134 - accuracy: 0.9987 - val_loss: 0.5056 - val_accuracy: 0.7421\n",
      "Epoch 185/200\n",
      "760/760 [==============================] - 0s 104us/step - loss: 0.1135 - accuracy: 0.9987 - val_loss: 0.5097 - val_accuracy: 0.7579\n",
      "Epoch 186/200\n",
      "760/760 [==============================] - 0s 101us/step - loss: 0.1114 - accuracy: 0.9987 - val_loss: 0.5089 - val_accuracy: 0.7579\n",
      "Epoch 187/200\n",
      "760/760 [==============================] - 0s 100us/step - loss: 0.1100 - accuracy: 0.9987 - val_loss: 0.5099 - val_accuracy: 0.7526\n",
      "Epoch 188/200\n",
      "760/760 [==============================] - 0s 96us/step - loss: 0.1091 - accuracy: 0.9987 - val_loss: 0.5110 - val_accuracy: 0.7526\n",
      "Epoch 189/200\n",
      "760/760 [==============================] - 0s 88us/step - loss: 0.1076 - accuracy: 0.9987 - val_loss: 0.5154 - val_accuracy: 0.7684\n",
      "Epoch 190/200\n",
      "760/760 [==============================] - 0s 87us/step - loss: 0.1059 - accuracy: 0.9987 - val_loss: 0.5126 - val_accuracy: 0.7632\n",
      "Epoch 191/200\n",
      "760/760 [==============================] - 0s 85us/step - loss: 0.1047 - accuracy: 0.9987 - val_loss: 0.5103 - val_accuracy: 0.7526\n",
      "Epoch 192/200\n",
      "760/760 [==============================] - 0s 96us/step - loss: 0.1038 - accuracy: 0.9987 - val_loss: 0.5138 - val_accuracy: 0.7632\n",
      "Epoch 193/200\n",
      "760/760 [==============================] - 0s 101us/step - loss: 0.1023 - accuracy: 0.9987 - val_loss: 0.5118 - val_accuracy: 0.7526\n",
      "Epoch 194/200\n",
      "760/760 [==============================] - 0s 105us/step - loss: 0.1016 - accuracy: 0.9987 - val_loss: 0.5129 - val_accuracy: 0.7579\n",
      "Epoch 195/200\n",
      "760/760 [==============================] - 0s 99us/step - loss: 0.0999 - accuracy: 0.9987 - val_loss: 0.5125 - val_accuracy: 0.7474\n",
      "Epoch 196/200\n",
      "760/760 [==============================] - 0s 99us/step - loss: 0.0988 - accuracy: 0.9987 - val_loss: 0.5123 - val_accuracy: 0.7474\n",
      "Epoch 197/200\n",
      "760/760 [==============================] - 0s 126us/step - loss: 0.0975 - accuracy: 0.9987 - val_loss: 0.5142 - val_accuracy: 0.7526\n",
      "Epoch 198/200\n",
      "760/760 [==============================] - 0s 97us/step - loss: 0.0964 - accuracy: 0.9987 - val_loss: 0.5165 - val_accuracy: 0.7684\n",
      "Epoch 199/200\n",
      "760/760 [==============================] - 0s 87us/step - loss: 0.0955 - accuracy: 0.9987 - val_loss: 0.5153 - val_accuracy: 0.7526\n",
      "Epoch 200/200\n",
      "760/760 [==============================] - 0s 89us/step - loss: 0.0941 - accuracy: 0.9987 - val_loss: 0.5161 - val_accuracy: 0.7579\n"
     ]
    },
    {
     "data": {
      "text/plain": [
       "<keras.callbacks.callbacks.History at 0x25339348630>"
      ]
     },
     "execution_count": 113,
     "metadata": {},
     "output_type": "execute_result"
    }
   ],
   "source": [
    "model.fit(padded_train, y_train, epochs = num_epochs, verbose = 1, \n",
    "          validation_split = 0.2, batch_size = 32)"
   ]
  },
  {
   "cell_type": "markdown",
   "metadata": {},
   "source": [
    "Let's predict on both train and test data to evaluate the performance of our model. "
   ]
  },
  {
   "cell_type": "code",
   "execution_count": 121,
   "metadata": {},
   "outputs": [],
   "source": [
    "def evaluate_performance(y_true, y_pred, title, labels):\n",
    "    tn, fp, fn, tp = confusion_matrix(y_true, y_pred).ravel()\n",
    "    print(f\"Accuracy:  {np.round((tp + tn) / (tp + fp + tn + fn), 3)}\")\n",
    "    print(f\"Recall:    {np.round(tp / (tp + fn), 3)}\")\n",
    "    print(f\"Precision: {np.round(tp / (tp + fp), 3)}\")\n",
    "    print(f\"f1 score:  {np.round(2 * tp / (2 * tp + fp + fn), 3)}\\n\")\n",
    "    \n",
    "    data = confusion_matrix(y_true, y_pred)\n",
    "    data = pd.DataFrame(data/np.sum(data), index = labels, columns = labels)\n",
    "    print(data)\n",
    "    akws = {\"ha\": 'center',\"va\": 'center', 'size':15}\n",
    "    sns.heatmap(data, annot = True, annot_kws=akws)\n",
    "#     plt.axis('Off')\n",
    "    plt.suptitle(title)\n",
    "    plt.xticks(rotation = 90); plt.yticks(rotation = 0)\n",
    "    plt.show()"
   ]
  },
  {
   "cell_type": "markdown",
   "metadata": {},
   "source": [
    "**Evaluate on Train** "
   ]
  },
  {
   "cell_type": "code",
   "execution_count": 122,
   "metadata": {},
   "outputs": [
    {
     "name": "stdout",
     "output_type": "stream",
     "text": [
      "Accuracy:  0.951\n",
      "Recall:    0.943\n",
      "Precision: 0.957\n",
      "f1 score:  0.95\n",
      "\n",
      "          Negative  Positive\n",
      "Negative  0.478947  0.021053\n",
      "Positive  0.028421  0.471579\n"
     ]
    },
    {
     "data": {
      "image/png": "[encoded data removed]",
      "text/plain": [
       "<Figure size 432x288 with 2 Axes>"
      ]
     },
     "metadata": {
      "needs_background": "light"
     },
     "output_type": "display_data"
    }
   ],
   "source": [
    "y_pred_train = model.predict_classes(padded_train)\n",
    "evaluate_performance(y_train, y_pred_train, title = 'Train Performance',\n",
    "                     labels = ['Negative', 'Positive'])"
   ]
  },
  {
   "cell_type": "markdown",
   "metadata": {},
   "source": [
    "**Evaluate on Test** "
   ]
  },
  {
   "cell_type": "code",
   "execution_count": 123,
   "metadata": {},
   "outputs": [
    {
     "name": "stdout",
     "output_type": "stream",
     "text": [
      "Accuracy:  0.86\n",
      "Recall:    0.88\n",
      "Precision: 0.846\n",
      "f1 score:  0.863\n",
      "\n",
      "          Negative  Positive\n",
      "Negative  0.42      0.08    \n",
      "Positive  0.06      0.44    \n"
     ]
    },
    {
     "data": {
      "image/png": "[encoded data removed]",
      "text/plain": [
       "<Figure size 432x288 with 2 Axes>"
      ]
     },
     "metadata": {
      "needs_background": "light"
     },
     "output_type": "display_data"
    }
   ],
   "source": [
    "y_pred_test = model.predict_classes(padded_test)\n",
    "evaluate_performance(y_test, y_pred_test, title = 'Test Performance',\n",
    "                     labels = ['Negative', 'Positive'])"
   ]
  }
 ],
 "metadata": {
  "kernelspec": {
   "display_name": "Python 3",
   "language": "python",
   "name": "python3"
  },
  "language_info": {
   "codemirror_mode": {
    "name": "ipython",
    "version": 3
   },
   "file_extension": ".py",
   "mimetype": "text/x-python",
   "name": "python",
   "nbconvert_exporter": "python",
   "pygments_lexer": "ipython3",
   "version": "3.6.8"
  },
  "latex_envs": {
   "LaTeX_envs_menu_present": true,
   "autoclose": false,
   "autocomplete": true,
   "bibliofile": "biblio.bib",
   "cite_by": "apalike",
   "current_citInitial": 1,
   "eqLabelWithNumbers": true,
   "eqNumInitial": 1,
   "hotkeys": {
    "equation": "Ctrl-E",
    "itemize": "Ctrl-I"
   },
   "labels_anchors": false,
   "latex_user_defs": false,
   "report_style_numbering": false,
   "user_envs_cfg": false
  },
  "toc": {
   "base_numbering": 1,
   "nav_menu": {},
   "number_sections": true,
   "sideBar": true,
   "skip_h1_title": false,
   "title_cell": "Table of Contents",
   "title_sidebar": "Contents",
   "toc_cell": false,
   "toc_position": {},
   "toc_section_display": true,
   "toc_window_display": false
  }
 },
 "nbformat": 4,
 "nbformat_minor": 2
}
